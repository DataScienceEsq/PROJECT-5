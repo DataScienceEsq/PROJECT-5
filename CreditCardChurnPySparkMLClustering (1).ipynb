{
 "cells": [
  {
   "cell_type": "code",
   "execution_count": 2,
   "metadata": {},
   "outputs": [],
   "source": [
    "import pandas as pd\n",
    "import numpy as np\n",
    "\n",
    "\n",
    "df_data_1 = pd.read_csv(BankChurners.csv)\n",
    "\n",
    "#Use BankChurners.csv file provided ...\n"
   ]
  },
  {
   "cell_type": "code",
   "execution_count": 3,
   "metadata": {},
   "outputs": [],
   "source": [
    "# This part has Several Useful Functions and Import of Packages that we need in the Modeling That Follows\n",
    "#\n",
    "#\n",
    "\n",
    "from matplotlib import pyplot as plt\n",
    "from scipy.stats import *\n",
    "import numpy as np\n",
    "from sklearn.preprocessing import LabelEncoder\n",
    "import pylab as pl\n",
    "import scipy.optimize as opt\n",
    "from sklearn.model_selection import train_test_split\n",
    "from sklearn.metrics import classification_report, confusion_matrix\n",
    "import itertools\n",
    "%matplotlib inline \n",
    "\n",
    "\n",
    "def histRetained(dFrame, coL):\n",
    "    C = dFrame[coL][dFrame['Attrition_Flag'] == 0]\n",
    "    C = C.sample(n=100,random_state=1)\n",
    "#    plt.hist(C,color = 'green',edgecolor='white')\n",
    "    C.plot(kind='hist',figsize = (10, 8),color ='green',edgecolor='blue')\n",
    "#\n",
    "# plot and plt.hist give about the same results!!\n",
    "#\n",
    "    plt.xlabel(coL.upper())\n",
    "    plt.ylabel('Frequency of Retained Customers')\n",
    "    plt.title('Histogram of Retained Credit Card Customers Size n = 100')\n",
    "    plt.show()\n",
    "    return\n",
    "\n",
    "def histLost(dFrame, coL):\n",
    "    C = dFrame[coL][dFrame['Attrition_Flag'] == 1]\n",
    "    C = C.sample(n=100,random_state=1)\n",
    "#    plt.hist(C,color = 'red',edgecolor='black')\n",
    "    C.plot(kind = 'hist', figsize = (10,8),color='red',edgecolor='black')\n",
    "#\n",
    "# plot and plt.hist give about the same results!!\n",
    "#\n",
    "    plt.xlabel(coL.upper())\n",
    "    plt.ylabel('Frequency of Lost Customers')\n",
    "    plt.title('Histogram of Lost Credit Card Customers Size n = 100')\n",
    "    plt.show()\n",
    "    return\n",
    "    \n",
    "    \n",
    "def boxPlot(dFrame,coL):\n",
    "    dFrame[coL].plot(kind='box', figsize=(8, 6), color='black', vert=True)\n",
    "    plt.title('Box plot of ' + coL.upper() + ' Feature')\n",
    "    plt.ylabel('Statistics')\n",
    "    plt.show()\n",
    "    return\n",
    "\n",
    "\n",
    "def describeData(dFrame,coLs):\n",
    "    for coL in coLs:\n",
    "        print(dFrame[coL].describe())\n",
    "    return\n",
    "    \n",
    "    \n",
    "def stats(dFrame,coLs):\n",
    "    for coL in coLs:\n",
    "        print('Statistics for Feature ', coL)\n",
    "        print('Max = %.4f' % dFrame[coL].max())\n",
    "        print('Min = %.4f' %dFrame[coL].min())\n",
    "        print('Mean = %.4f' % dFrame[coL].mean())\n",
    "        print('Skewness = %.4f' % dFrame[coL].skew())\n",
    "        print('Kurtosis = %.4f' % dFrame[coL].kurtosis())\n",
    "        print('------------------------------------------------------\\n')\n",
    "    return\n",
    "    \n",
    "\n",
    "def removeOutliers(dFrame,coLs): #Here coLs is a LIST of columns from which OUTLIERS are to be removed ...\n",
    "    for coL in coLs:\n",
    "        dFrame = dFrame[np.abs(zscore(dFrame[coL])) < 3.0]\n",
    "    return dFrame\n",
    "\n",
    "\n",
    "def zscoreData(dFrame,coLs): # Here coLs is a LIST of columns (numeric) whose contents you wish to normalize (z)\n",
    "    for aCol in coLs:\n",
    "#        dFrame[aCol] = (dFrame[aCol]-dFrame[aCol].mean())/dFrame[aCol].std()\n",
    "        dFrame[aCol] = zscore(dFrame[aCol])\n",
    "    return dFrame\n",
    "    \n",
    "\n",
    "\n",
    "def cleanData(dFrame, Feature): # Here Feature is a Column Feature of dFrame based on which any missing or NULL data is removed.\n",
    "    dFrame = dFrame.drop_duplicates()\n",
    "    dFrame.dropna(axis = 0, inplace = True)\n",
    "    missing_data = dFrame.isnull()\n",
    "    dFrame = dFrame[dFrame[Feature] != missing_data[Feature]]\n",
    "    return dFrame\n",
    "    \n",
    "\n",
    "def LabelEncoding(dFrame,coLs):  # Here coLs is a LIST whose contents you wish to Label Encode 0, 1, 2, 3, ... etc.\n",
    "    labelEncoder = LabelEncoder()\n",
    "    for aCol in coLs:\n",
    "        dFrame[aCol] = labelEncoder.fit_transform(dFrame[aCol])\n",
    "    dFrame = pd.DataFrame(dFrame)\n",
    "    return dFrame\n",
    "\n",
    "\n",
    "def dropColumns(dFrame,coLs): # Here coLs is a list of columns to be dropped and must be passed as a LIST ...\n",
    "    dFrame.drop(coLs, axis = 1, inplace = True)\n",
    "    return dFrame\n",
    "\n",
    "    \n",
    "def oneHotEncoding(dFrame,coLs): # Here coLs is a LIST whose contents you wish to ONE-HOT encode ...\n",
    "    for col in coLs:\n",
    "        dFrame_oneHot = pd.get_dummies(dFrame[col],prefix = col, prefix_sep=\" \").astype('int64')\n",
    "        for oneHotcol in dFrame_oneHot.columns:\n",
    "            dFrame[oneHotcol] = dFrame_oneHot[oneHotcol]\n",
    "        dropColumns(dFrame, [col])\n",
    "    return dFrame\n",
    "    \n",
    "    \n",
    "def getFeatureColumns(dFrame,labelColumn):\n",
    "    return [x for x in dFrame.columns if x != labelColumn]\n",
    "\n",
    "\n",
    "def corRelation(dFrame): #Needs all columns to be at least Label Encoded Numerically\n",
    "    XDIM, YDIM = dFrame.corr().shape\n",
    "    for i in range(XDIM):\n",
    "        for j in range(i+1,YDIM):\n",
    "            if (dFrame.corr().iloc[i,j] > 0.7):\n",
    "                print('Feature1 = ', dFrame.columns[i], 'Feature2 = ',dFrame.columns[j], 'Correlation = %.4f' % dFrame.corr().iloc[i,j])\n",
    "    return\n",
    "    \n",
    "\n",
    "def plot_confusion_matrix(cm, classes,normalize=False,title='Confusion matrix',cmap=plt.cm.Oranges):\n",
    "    \"\"\"\n",
    "    This function prints and plots the confusion matrix.\n",
    "    Normalization can be applied by setting `normalize=True`.\n",
    "    \"\"\"\n",
    "    if normalize:\n",
    "        cm = cm.astype('float') / cm.sum(axis=1)[:, np.newaxis]\n",
    "        print(\"Normalized confusion matrix\")\n",
    "    else:\n",
    "        print('Confusion matrix, without normalization')\n",
    "\n",
    "    print(cm)\n",
    "\n",
    "    plt.imshow(cm, interpolation='nearest', cmap=cmap)\n",
    "    plt.title(title)\n",
    "    plt.colorbar()\n",
    "    tick_marks = np.arange(len(classes))\n",
    "    plt.xticks(tick_marks, classes, rotation=45)\n",
    "    plt.yticks(tick_marks, classes)\n",
    "\n",
    "    fmt = '.2f' if normalize else 'd'\n",
    "    thresh = cm.max() / 2.\n",
    "    for i, j in itertools.product(range(cm.shape[0]), range(cm.shape[1])):\n",
    "        plt.text(j, i, format(cm[i, j], fmt),\n",
    "                 horizontalalignment=\"center\",\n",
    "                 color=\"white\" if cm[i, j] > thresh else \"black\")\n",
    "\n",
    "    plt.tight_layout()\n",
    "    plt.ylabel('True label')\n",
    "    plt.xlabel('Predicted label')\n",
    "    return\n",
    "\n",
    "\n",
    "## PySpark Functions ...\n",
    "\n",
    "def dropColumns(dFrame,coLs): # dFrame is a Pyspark Data Frame with coLs a list of columns we plan to drop from dFrame\n",
    "    for x in coLs:\n",
    "        dFrame = dFrame.drop(x)\n",
    "    return dFrame\n",
    "\n",
    "## Below is the Label Encoding Function ...\n",
    "\n",
    "def LabelEncode(dFrame,coLs):  # Here dFrame is a Pyspark Data Frame and coLs is a List of columns for Label Encoding\n",
    "    inputs = coLs\n",
    "    outputs = []\n",
    "    for input in inputs:\n",
    "        outputs.append(input+'-Label')\n",
    "    STINDEXER = STINDEX(inputCols = inputs, outputCols = outputs)\n",
    "    MODEL = STINDEXER.fit(dFrame)\n",
    "    dFrame = MODEL.transform(dFrame)\n",
    "    for input in inputs:\n",
    "        dFrame = dFrame.drop(input)\n",
    "    return dFrame\n",
    "\n",
    "\n",
    "## Below is a Function that Normalizes Numeric Column Data ...\n",
    "\n",
    "def ZVALUES(dFrame, COLS):\n",
    "\n",
    "# Here COLS is a List of Columns We Standardize to Mean = 0 and Standard Deviation = 1\n",
    "\n",
    "# dFrame should be a Spark DataFrame\n",
    "    \n",
    "    from pyspark.sql.functions import stddev, mean, col, max, min\n",
    "    for x in COLS:\n",
    "        MEAN, STDEV = dFrame.select(mean(x), stddev(x)).first()\n",
    "        dFrame = dFrame.withColumn(\"ZScore-\"+x, (col(x) - MEAN)/STDEV)\n",
    "        dFrame = dFrame.drop(x)\n",
    "    return dFrame\n",
    "\n",
    "\n",
    "## One Hot Encoding for dFrame\n",
    "\n",
    "def oneHotEncoder(dFrame,inColumns,outColumns): # Here dFrame is a Spark Data Frame, inColumns and outColumns are Lists ...\n",
    "    ENCODER = ONEHOT(inputCols = inColumns, outputCols = outColumns)\n",
    "    MODEL = ENCODER.fit(dFrame)\n",
    "    dFrame = MODEL.transform(dFrame)\n",
    "    for col in inColumns:\n",
    "        dFrame = dFrame.drop(col)\n",
    "    return dFrame  "
   ]
  },
  {
   "cell_type": "code",
   "execution_count": 4,
   "metadata": {},
   "outputs": [],
   "source": [
    "df1 = df_data_1"
   ]
  },
  {
   "cell_type": "code",
   "execution_count": 5,
   "metadata": {},
   "outputs": [
    {
     "data": {
      "text/markdown": [
       "# <span style=\"color:green\">All is Fine -- Proceed!</span>"
      ],
      "text/plain": [
       "<IPython.core.display.Markdown object>"
      ]
     },
     "metadata": {},
     "output_type": "display_data"
    }
   ],
   "source": [
    "from IPython.display import Markdown, display\n",
    "def printmd(string):\n",
    "    display(Markdown('# <span style=\"color:green\">'+string+'</span>'))\n",
    "\n",
    "\n",
    "if ('sc' in locals() or 'sc' in globals()):\n",
    "    printmd('<<<<<!!!!! It seems that you are running in a IBM Watson Studio Apache Spark Notebook. Please run it in an IBM Watson Studio Default Runtime (without Apache Spark) !!!!!>>>>>')\n",
    "else:\n",
    "    printmd(\"All is Fine -- Proceed!\")"
   ]
  },
  {
   "cell_type": "code",
   "execution_count": 6,
   "metadata": {},
   "outputs": [
    {
     "name": "stdout",
     "output_type": "stream",
     "text": [
      "Collecting pyspark==3.0.0\n",
      "  Downloading pyspark-3.0.0.tar.gz (204.7 MB)\n",
      "\u001b[K     |████████████████████████████████| 204.7 MB 48 kB/s s eta 0:00:01\n",
      "\u001b[?25hCollecting py4j==0.10.9\n",
      "  Downloading py4j-0.10.9-py2.py3-none-any.whl (198 kB)\n",
      "\u001b[K     |████████████████████████████████| 198 kB 66.8 MB/s eta 0:00:01\n",
      "\u001b[?25hBuilding wheels for collected packages: pyspark\n",
      "  Building wheel for pyspark (setup.py) ... \u001b[?25ldone\n",
      "\u001b[?25h  Created wheel for pyspark: filename=pyspark-3.0.0-py2.py3-none-any.whl size=205044182 sha256=290fe50e4a94bc4ed196fa6b82d7581bf25dc21ed3bf2038a8007d0cbc761f66\n",
      "  Stored in directory: /tmp/wsuser/.cache/pip/wheels/4e/c5/36/aef1bb711963a619063119cc032176106827a129c0be20e301\n",
      "Successfully built pyspark\n",
      "Installing collected packages: py4j, pyspark\n",
      "Successfully installed py4j-0.10.9 pyspark-3.0.0\n"
     ]
    }
   ],
   "source": [
    "!pip install pyspark==3.0.0"
   ]
  },
  {
   "cell_type": "code",
   "execution_count": 7,
   "metadata": {},
   "outputs": [
    {
     "data": {
      "text/markdown": [
       "# <span style=\"color:green\">All Libraries Imported OK ... Please Proceed</span>"
      ],
      "text/plain": [
       "<IPython.core.display.Markdown object>"
      ]
     },
     "metadata": {},
     "output_type": "display_data"
    }
   ],
   "source": [
    "try:\n",
    "    from pyspark import SparkContext, SparkConf\n",
    "    from pyspark.sql import SparkSession\n",
    "    printmd(\"All Libraries Imported OK ... Please Proceed\")\n",
    "except ImportError as e:\n",
    "    printmd('<<<<<!!!!! Please restart your kernel after installing Apache Spark !!!!!>>>>>')"
   ]
  },
  {
   "cell_type": "code",
   "execution_count": 8,
   "metadata": {},
   "outputs": [],
   "source": [
    "sc = SparkContext.getOrCreate(SparkConf().setMaster(\"local[*]\"))\n",
    "\n",
    "spark = SparkSession \\\n",
    "    .builder \\\n",
    "    .getOrCreate()"
   ]
  },
  {
   "cell_type": "code",
   "execution_count": 9,
   "metadata": {},
   "outputs": [],
   "source": [
    "df1 = spark.createDataFrame(df1)"
   ]
  },
  {
   "cell_type": "code",
   "execution_count": 10,
   "metadata": {},
   "outputs": [
    {
     "data": {
      "text/plain": [
       "(10127, 23)"
      ]
     },
     "execution_count": 10,
     "metadata": {},
     "output_type": "execute_result"
    }
   ],
   "source": [
    "df1.count(), len(df1.columns)"
   ]
  },
  {
   "cell_type": "markdown",
   "metadata": {},
   "source": [
    "## The plan: Clean Data, Drop Columns Not Needed, Take Out Outliers, Normalize, Label Encode, One Hot Encode (ETL Stuff..) Follow by Modeling ..."
   ]
  },
  {
   "cell_type": "markdown",
   "metadata": {},
   "source": [
    "### Take Out Duplicates"
   ]
  },
  {
   "cell_type": "code",
   "execution_count": 10,
   "metadata": {},
   "outputs": [],
   "source": [
    "df1 = df1.dropDuplicates()"
   ]
  },
  {
   "cell_type": "code",
   "execution_count": 11,
   "metadata": {},
   "outputs": [],
   "source": [
    "df1 = df1.distinct()"
   ]
  },
  {
   "cell_type": "markdown",
   "metadata": {},
   "source": [
    "### Take Out Null Values "
   ]
  },
  {
   "cell_type": "code",
   "execution_count": 12,
   "metadata": {},
   "outputs": [],
   "source": [
    "df1 = df1.na.drop()"
   ]
  },
  {
   "cell_type": "code",
   "execution_count": 13,
   "metadata": {},
   "outputs": [
    {
     "data": {
      "text/plain": [
       "10127"
      ]
     },
     "execution_count": 13,
     "metadata": {},
     "output_type": "execute_result"
    }
   ],
   "source": [
    "df1.count()"
   ]
  },
  {
   "cell_type": "markdown",
   "metadata": {},
   "source": [
    "### Dropping Columns We Don't Need"
   ]
  },
  {
   "cell_type": "code",
   "execution_count": 14,
   "metadata": {},
   "outputs": [],
   "source": [
    "colsToDrop = [df1.columns[0],df1.columns[-1],df1.columns[-2]]"
   ]
  },
  {
   "cell_type": "code",
   "execution_count": 15,
   "metadata": {},
   "outputs": [],
   "source": [
    "df1 = dropColumns(df1, colsToDrop)"
   ]
  },
  {
   "cell_type": "code",
   "execution_count": 16,
   "metadata": {},
   "outputs": [
    {
     "data": {
      "text/plain": [
       "['Attrition_Flag',\n",
       " 'Customer_Age',\n",
       " 'Gender',\n",
       " 'Dependent_count',\n",
       " 'Education_Level',\n",
       " 'Marital_Status',\n",
       " 'Income_Category',\n",
       " 'Card_Category',\n",
       " 'Months_on_book',\n",
       " 'Total_Relationship_Count',\n",
       " 'Months_Inactive_12_mon',\n",
       " 'Contacts_Count_12_mon',\n",
       " 'Credit_Limit',\n",
       " 'Total_Revolving_Bal',\n",
       " 'Avg_Open_To_Buy',\n",
       " 'Total_Amt_Chng_Q4_Q1',\n",
       " 'Total_Trans_Amt',\n",
       " 'Total_Trans_Ct',\n",
       " 'Total_Ct_Chng_Q4_Q1',\n",
       " 'Avg_Utilization_Ratio']"
      ]
     },
     "execution_count": 16,
     "metadata": {},
     "output_type": "execute_result"
    }
   ],
   "source": [
    "df1.columns"
   ]
  },
  {
   "cell_type": "code",
   "execution_count": 27,
   "metadata": {},
   "outputs": [
    {
     "name": "stdout",
     "output_type": "stream",
     "text": [
      "+-----------------+-----+\n",
      "|   Attrition_Flag|count|\n",
      "+-----------------+-----+\n",
      "|Existing Customer| 8500|\n",
      "|Attrited Customer| 1627|\n",
      "+-----------------+-----+\n",
      "\n",
      "+------------+-----+\n",
      "|Customer_Age|count|\n",
      "+------------+-----+\n",
      "|          26|   78|\n",
      "|          29|   56|\n",
      "|          65|  101|\n",
      "|          54|  307|\n",
      "|          34|  146|\n",
      "|          50|  452|\n",
      "|          57|  223|\n",
      "|          43|  473|\n",
      "|          32|  106|\n",
      "|          31|   91|\n",
      "|          39|  333|\n",
      "|          68|    2|\n",
      "|          58|  157|\n",
      "|          63|   65|\n",
      "|          27|   32|\n",
      "|          51|  398|\n",
      "|          56|  262|\n",
      "|          52|  376|\n",
      "|          41|  379|\n",
      "|          33|  127|\n",
      "+------------+-----+\n",
      "only showing top 20 rows\n",
      "\n",
      "+------+-----+\n",
      "|Gender|count|\n",
      "+------+-----+\n",
      "|     F| 5358|\n",
      "|     M| 4769|\n",
      "+------+-----+\n",
      "\n",
      "+---------------+-----+\n",
      "|Dependent_count|count|\n",
      "+---------------+-----+\n",
      "|              0|  904|\n",
      "|              5|  424|\n",
      "|              1| 1838|\n",
      "|              3| 2732|\n",
      "|              2| 2655|\n",
      "|              4| 1574|\n",
      "+---------------+-----+\n",
      "\n",
      "+---------------+-----+\n",
      "|Education_Level|count|\n",
      "+---------------+-----+\n",
      "|    High School| 2013|\n",
      "|        Unknown| 1519|\n",
      "|     Uneducated| 1487|\n",
      "|  Post-Graduate|  516|\n",
      "|      Doctorate|  451|\n",
      "|       Graduate| 3128|\n",
      "|        College| 1013|\n",
      "+---------------+-----+\n",
      "\n",
      "+--------------+-----+\n",
      "|Marital_Status|count|\n",
      "+--------------+-----+\n",
      "|       Unknown|  749|\n",
      "|       Married| 4687|\n",
      "|      Divorced|  748|\n",
      "|        Single| 3943|\n",
      "+--------------+-----+\n",
      "\n",
      "+---------------+-----+\n",
      "|Income_Category|count|\n",
      "+---------------+-----+\n",
      "|        $120K +|  727|\n",
      "|    $60K - $80K| 1402|\n",
      "|   $80K - $120K| 1535|\n",
      "|        Unknown| 1112|\n",
      "|    $40K - $60K| 1790|\n",
      "| Less than $40K| 3561|\n",
      "+---------------+-----+\n",
      "\n",
      "+-------------+-----+\n",
      "|Card_Category|count|\n",
      "+-------------+-----+\n",
      "|     Platinum|   20|\n",
      "|       Silver|  555|\n",
      "|         Blue| 9436|\n",
      "|         Gold|  116|\n",
      "+-------------+-----+\n",
      "\n",
      "+--------------+-----+\n",
      "|Months_on_book|count|\n",
      "+--------------+-----+\n",
      "|            29|  241|\n",
      "|            26|  186|\n",
      "|            19|   63|\n",
      "|            54|   53|\n",
      "|            22|  105|\n",
      "|            34|  353|\n",
      "|            50|   96|\n",
      "|            32|  289|\n",
      "|            43|  273|\n",
      "|            31|  318|\n",
      "|            39|  341|\n",
      "|            25|  165|\n",
      "|            27|  206|\n",
      "|            56|  103|\n",
      "|            51|   80|\n",
      "|            52|   62|\n",
      "|            17|   39|\n",
      "|            41|  297|\n",
      "|            33|  305|\n",
      "|            28|  275|\n",
      "+--------------+-----+\n",
      "only showing top 20 rows\n",
      "\n",
      "+------------------------+-----+\n",
      "|Total_Relationship_Count|count|\n",
      "+------------------------+-----+\n",
      "|                       6| 1866|\n",
      "|                       5| 1891|\n",
      "|                       1|  910|\n",
      "|                       3| 2305|\n",
      "|                       2| 1243|\n",
      "|                       4| 1912|\n",
      "+------------------------+-----+\n",
      "\n",
      "+----------------------+-----+\n",
      "|Months_Inactive_12_mon|count|\n",
      "+----------------------+-----+\n",
      "|                     0|   29|\n",
      "|                     6|  124|\n",
      "|                     5|  178|\n",
      "|                     1| 2233|\n",
      "|                     3| 3846|\n",
      "|                     2| 3282|\n",
      "|                     4|  435|\n",
      "+----------------------+-----+\n",
      "\n",
      "+---------------------+-----+\n",
      "|Contacts_Count_12_mon|count|\n",
      "+---------------------+-----+\n",
      "|                    0|  399|\n",
      "|                    6|   54|\n",
      "|                    5|  176|\n",
      "|                    1| 1499|\n",
      "|                    3| 3380|\n",
      "|                    2| 3227|\n",
      "|                    4| 1392|\n",
      "+---------------------+-----+\n",
      "\n",
      "+------------+-----+\n",
      "|Credit_Limit|count|\n",
      "+------------+-----+\n",
      "|      7115.0|    1|\n",
      "|      5776.0|    1|\n",
      "|      4142.0|    3|\n",
      "|     20974.0|    2|\n",
      "|      7487.0|    1|\n",
      "|      5858.0|    2|\n",
      "|      2815.0|    1|\n",
      "|      4066.0|    2|\n",
      "|      3901.0|    1|\n",
      "|     17884.0|    1|\n",
      "|     10024.0|    1|\n",
      "|      5983.0|    1|\n",
      "|      2734.0|    3|\n",
      "|      3980.0|    1|\n",
      "|     17072.0|    1|\n",
      "|     32210.0|    1|\n",
      "|      7554.0|    1|\n",
      "|      1761.0|    1|\n",
      "|      6765.0|    1|\n",
      "|      4800.0|    1|\n",
      "+------------+-----+\n",
      "only showing top 20 rows\n",
      "\n",
      "+-------------------+-----+\n",
      "|Total_Revolving_Bal|count|\n",
      "+-------------------+-----+\n",
      "|               2509|    2|\n",
      "|               1697|    3|\n",
      "|               1806|    3|\n",
      "|               2040|    1|\n",
      "|               1677|    4|\n",
      "|               2214|    3|\n",
      "|               1950|    4|\n",
      "|                964|    3|\n",
      "|               2453|    1|\n",
      "|               2250|    4|\n",
      "|               1224|    5|\n",
      "|                541|    4|\n",
      "|               1258|    5|\n",
      "|               1010|    9|\n",
      "|               1277|    3|\n",
      "|               2173|    2|\n",
      "|               1360|    2|\n",
      "|               1840|    2|\n",
      "|                191|    1|\n",
      "|               2517|  508|\n",
      "+-------------------+-----+\n",
      "only showing top 20 rows\n",
      "\n",
      "+---------------+-----+\n",
      "|Avg_Open_To_Buy|count|\n",
      "+---------------+-----+\n",
      "|        14094.0|    1|\n",
      "|         2815.0|    1|\n",
      "|        10924.0|    1|\n",
      "|        20974.0|    1|\n",
      "|          305.0|    2|\n",
      "|         2862.0|    1|\n",
      "|         3901.0|    1|\n",
      "|          299.0|    2|\n",
      "|          692.0|    4|\n",
      "|         4066.0|    1|\n",
      "|          934.0|    1|\n",
      "|         5858.0|    1|\n",
      "|        12275.0|    1|\n",
      "|         4800.0|    1|\n",
      "|         3980.0|    1|\n",
      "|          496.0|    1|\n",
      "|        10338.0|    1|\n",
      "|          596.0|    1|\n",
      "|          558.0|    4|\n",
      "|        26615.0|    1|\n",
      "+---------------+-----+\n",
      "only showing top 20 rows\n",
      "\n",
      "+--------------------+-----+\n",
      "|Total_Amt_Chng_Q4_Q1|count|\n",
      "+--------------------+-----+\n",
      "|                0.66|   25|\n",
      "|  0.6890000000000001|   25|\n",
      "|  0.5920000000000001|   14|\n",
      "|               0.526|    5|\n",
      "|               1.097|    1|\n",
      "|               0.204|    1|\n",
      "|               0.445|   11|\n",
      "|  0.8540000000000001|   17|\n",
      "|               1.246|    1|\n",
      "| 0.43799999999999994|    4|\n",
      "|               1.642|    2|\n",
      "|               0.772|   18|\n",
      "|               0.262|    2|\n",
      "|               1.393|    1|\n",
      "|               0.716|   25|\n",
      "|               0.645|   21|\n",
      "|                0.84|   28|\n",
      "|               0.907|   14|\n",
      "|               0.319|    2|\n",
      "|               0.679|   21|\n",
      "+--------------------+-----+\n",
      "only showing top 20 rows\n",
      "\n",
      "+---------------+-----+\n",
      "|Total_Trans_Amt|count|\n",
      "+---------------+-----+\n",
      "|           4894|    4|\n",
      "|           2214|    4|\n",
      "|           2509|    2|\n",
      "|           4590|    3|\n",
      "|          14719|    2|\n",
      "|           2927|    1|\n",
      "|           2250|    2|\n",
      "|           4823|    4|\n",
      "|           5385|    2|\n",
      "|           7747|    1|\n",
      "|           7279|    1|\n",
      "|           8440|    1|\n",
      "|           2529|    2|\n",
      "|           3764|    3|\n",
      "|           1806|    2|\n",
      "|          15237|    1|\n",
      "|          10156|    1|\n",
      "|           1697|    2|\n",
      "|           2040|    2|\n",
      "|          13452|    1|\n",
      "+---------------+-----+\n",
      "only showing top 20 rows\n",
      "\n",
      "+--------------+-----+\n",
      "|Total_Trans_Ct|count|\n",
      "+--------------+-----+\n",
      "|            26|   56|\n",
      "|            29|   75|\n",
      "|            65|  166|\n",
      "|            54|   89|\n",
      "|            19|   11|\n",
      "|           112|   24|\n",
      "|           113|   23|\n",
      "|            22|   35|\n",
      "|           130|    5|\n",
      "|            77|  197|\n",
      "|            34|  107|\n",
      "|           126|   10|\n",
      "|            94|   51|\n",
      "|            50|   91|\n",
      "|           110|   25|\n",
      "|            57|   94|\n",
      "|            32|  104|\n",
      "|            43|  147|\n",
      "|            84|  147|\n",
      "|            31|  100|\n",
      "+--------------+-----+\n",
      "only showing top 20 rows\n",
      "\n",
      "+-------------------+-----+\n",
      "|Total_Ct_Chng_Q4_Q1|count|\n",
      "+-------------------+-----+\n",
      "|               0.66|   43|\n",
      "| 0.5920000000000001|   11|\n",
      "| 0.6890000000000001|   23|\n",
      "|              1.097|    2|\n",
      "|              0.526|   10|\n",
      "|              1.882|    1|\n",
      "|              1.462|    1|\n",
      "| 0.8540000000000001|   24|\n",
      "|0.43799999999999994|   11|\n",
      "|              0.262|    1|\n",
      "|              0.772|    1|\n",
      "|              0.907|   13|\n",
      "|              0.645|   11|\n",
      "|               0.84|    9|\n",
      "|              0.716|    2|\n",
      "|                2.4|    2|\n",
      "|              0.773|   21|\n",
      "|              0.693|    3|\n",
      "|              0.679|   24|\n",
      "|              0.823|    4|\n",
      "+-------------------+-----+\n",
      "only showing top 20 rows\n",
      "\n",
      "+---------------------+-----+\n",
      "|Avg_Utilization_Ratio|count|\n",
      "+---------------------+-----+\n",
      "|                0.204|    6|\n",
      "|   0.5920000000000001|    6|\n",
      "|   0.6890000000000001|   10|\n",
      "|                0.526|    7|\n",
      "|                0.134|   14|\n",
      "|                 0.66|    3|\n",
      "|                0.262|   17|\n",
      "|   0.8540000000000001|    7|\n",
      "|  0.43799999999999994|   10|\n",
      "|  0.21899999999999997|    8|\n",
      "|                0.445|    7|\n",
      "|                0.772|    7|\n",
      "|                0.319|    8|\n",
      "|                0.645|   14|\n",
      "|                 0.84|    1|\n",
      "|                 0.07|   26|\n",
      "|                0.716|    8|\n",
      "|                0.907|    2|\n",
      "|  0.49700000000000005|   11|\n",
      "|                0.032|   13|\n",
      "+---------------------+-----+\n",
      "only showing top 20 rows\n",
      "\n"
     ]
    }
   ],
   "source": [
    "for coL in df1.columns:\n",
    "    df1.groupBy(coL).count().show()"
   ]
  },
  {
   "cell_type": "markdown",
   "metadata": {},
   "source": [
    "### Removing Leading and Trailing White Spaces from Column Header Names"
   ]
  },
  {
   "cell_type": "code",
   "execution_count": 17,
   "metadata": {},
   "outputs": [],
   "source": [
    "Replace = lambda x : x.strip()"
   ]
  },
  {
   "cell_type": "code",
   "execution_count": 18,
   "metadata": {},
   "outputs": [],
   "source": [
    "for coL in df1.columns:\n",
    "    coL = Replace(coL)"
   ]
  },
  {
   "cell_type": "code",
   "execution_count": 19,
   "metadata": {},
   "outputs": [
    {
     "data": {
      "text/plain": [
       "['Attrition_Flag',\n",
       " 'Customer_Age',\n",
       " 'Gender',\n",
       " 'Dependent_count',\n",
       " 'Education_Level',\n",
       " 'Marital_Status',\n",
       " 'Income_Category',\n",
       " 'Card_Category',\n",
       " 'Months_on_book',\n",
       " 'Total_Relationship_Count',\n",
       " 'Months_Inactive_12_mon',\n",
       " 'Contacts_Count_12_mon',\n",
       " 'Credit_Limit',\n",
       " 'Total_Revolving_Bal',\n",
       " 'Avg_Open_To_Buy',\n",
       " 'Total_Amt_Chng_Q4_Q1',\n",
       " 'Total_Trans_Amt',\n",
       " 'Total_Trans_Ct',\n",
       " 'Total_Ct_Chng_Q4_Q1',\n",
       " 'Avg_Utilization_Ratio']"
      ]
     },
     "execution_count": 19,
     "metadata": {},
     "output_type": "execute_result"
    }
   ],
   "source": [
    "df1.columns"
   ]
  },
  {
   "cell_type": "code",
   "execution_count": 86,
   "metadata": {},
   "outputs": [],
   "source": [
    "#df1.createOrReplaceTempView('df1')"
   ]
  },
  {
   "cell_type": "markdown",
   "metadata": {},
   "source": [
    "### Filtering Out Rows that Have Unknown Data or Missing Values or Null Values Etc."
   ]
  },
  {
   "cell_type": "code",
   "execution_count": 20,
   "metadata": {},
   "outputs": [],
   "source": [
    "colsToFilter = ['Education_Level','Income_Category','Marital_Status']\n",
    "\n",
    "for coL in colsToFilter:\n",
    "    df1 = df1.filter(df1[coL] != 'Unknown')"
   ]
  },
  {
   "cell_type": "code",
   "execution_count": 20,
   "metadata": {},
   "outputs": [
    {
     "name": "stdout",
     "output_type": "stream",
     "text": [
      "+---------------+-----+\n",
      "|Education_Level|count|\n",
      "+---------------+-----+\n",
      "|    High School| 1653|\n",
      "|     Uneducated| 1204|\n",
      "|  Post-Graduate|  431|\n",
      "|      Doctorate|  358|\n",
      "|       Graduate| 2591|\n",
      "|        College|  844|\n",
      "+---------------+-----+\n",
      "\n",
      "+---------------+-----+\n",
      "|Income_Category|count|\n",
      "+---------------+-----+\n",
      "|        $120K +|  572|\n",
      "|    $60K - $80K| 1103|\n",
      "|   $80K - $120K| 1202|\n",
      "|    $40K - $60K| 1412|\n",
      "| Less than $40K| 2792|\n",
      "+---------------+-----+\n",
      "\n",
      "+--------------+-----+\n",
      "|Marital_Status|count|\n",
      "+--------------+-----+\n",
      "|       Married| 3564|\n",
      "|      Divorced|  569|\n",
      "|        Single| 2948|\n",
      "+--------------+-----+\n",
      "\n"
     ]
    }
   ],
   "source": [
    "for coL in colsToFilter:\n",
    "    df1.groupBy(coL).count().show()"
   ]
  },
  {
   "cell_type": "code",
   "execution_count": 21,
   "metadata": {},
   "outputs": [
    {
     "name": "stdout",
     "output_type": "stream",
     "text": [
      "The Count = 7081\n"
     ]
    }
   ],
   "source": [
    "print(\"The Count = %d\" % df1.count())"
   ]
  },
  {
   "cell_type": "markdown",
   "metadata": {},
   "source": [
    "### Label Encoding or String Indexing Using Pyspark ML"
   ]
  },
  {
   "cell_type": "code",
   "execution_count": 21,
   "metadata": {},
   "outputs": [],
   "source": [
    "from pyspark.ml.feature import StringIndexer as STINDEX"
   ]
  },
  {
   "cell_type": "code",
   "execution_count": 22,
   "metadata": {},
   "outputs": [],
   "source": [
    "colsToIndex = ['Attrition_Flag','Gender','Education_Level','Marital_Status','Income_Category','Card_Category']\n",
    "\n",
    "df1 = LabelEncode(df1,colsToIndex)"
   ]
  },
  {
   "cell_type": "code",
   "execution_count": 23,
   "metadata": {},
   "outputs": [
    {
     "data": {
      "text/plain": [
       "['Customer_Age',\n",
       " 'Dependent_count',\n",
       " 'Months_on_book',\n",
       " 'Total_Relationship_Count',\n",
       " 'Months_Inactive_12_mon',\n",
       " 'Contacts_Count_12_mon',\n",
       " 'Credit_Limit',\n",
       " 'Total_Revolving_Bal',\n",
       " 'Avg_Open_To_Buy',\n",
       " 'Total_Amt_Chng_Q4_Q1',\n",
       " 'Total_Trans_Amt',\n",
       " 'Total_Trans_Ct',\n",
       " 'Total_Ct_Chng_Q4_Q1',\n",
       " 'Avg_Utilization_Ratio',\n",
       " 'Card_Category-Label',\n",
       " 'Gender-Label',\n",
       " 'Income_Category-Label',\n",
       " 'Marital_Status-Label',\n",
       " 'Attrition_Flag-Label',\n",
       " 'Education_Level-Label']"
      ]
     },
     "execution_count": 23,
     "metadata": {},
     "output_type": "execute_result"
    }
   ],
   "source": [
    "df1.columns"
   ]
  },
  {
   "cell_type": "code",
   "execution_count": 27,
   "metadata": {},
   "outputs": [
    {
     "name": "stdout",
     "output_type": "stream",
     "text": [
      "+--------------------+-----+\n",
      "|Attrition_Flag-Label|count|\n",
      "+--------------------+-----+\n",
      "|                 0.0| 5968|\n",
      "|                 1.0| 1113|\n",
      "+--------------------+-----+\n",
      "\n",
      "+------------+-----+\n",
      "|Gender-Label|count|\n",
      "+------------+-----+\n",
      "|         0.0| 3706|\n",
      "|         1.0| 3375|\n",
      "+------------+-----+\n",
      "\n",
      "+---------------------+-----+\n",
      "|Education_Level-Label|count|\n",
      "+---------------------+-----+\n",
      "|                  0.0| 2591|\n",
      "|                  1.0| 1653|\n",
      "|                  4.0|  431|\n",
      "|                  3.0|  844|\n",
      "|                  2.0| 1204|\n",
      "|                  5.0|  358|\n",
      "+---------------------+-----+\n",
      "\n",
      "+--------------------+-----+\n",
      "|Marital_Status-Label|count|\n",
      "+--------------------+-----+\n",
      "|                 0.0| 3564|\n",
      "|                 1.0| 2948|\n",
      "|                 2.0|  569|\n",
      "+--------------------+-----+\n",
      "\n",
      "+---------------------+-----+\n",
      "|Income_Category-Label|count|\n",
      "+---------------------+-----+\n",
      "|                  0.0| 2792|\n",
      "|                  1.0| 1412|\n",
      "|                  4.0|  572|\n",
      "|                  3.0| 1103|\n",
      "|                  2.0| 1202|\n",
      "+---------------------+-----+\n",
      "\n",
      "+-------------------+-----+\n",
      "|Card_Category-Label|count|\n",
      "+-------------------+-----+\n",
      "|                0.0| 6598|\n",
      "|                1.0|  391|\n",
      "|                3.0|   11|\n",
      "|                2.0|   81|\n",
      "+-------------------+-----+\n",
      "\n"
     ]
    }
   ],
   "source": [
    "for coL in colsToIndex:\n",
    "    df1.groupBy(coL+'-Label').count().show()"
   ]
  },
  {
   "cell_type": "markdown",
   "metadata": {},
   "source": [
    "### Here we will need to first Normalize over Mean and Standard Deviation for df2 and then Convert Back to Spark DF to take Out Outliers using FILTER command ..."
   ]
  },
  {
   "cell_type": "code",
   "execution_count": 24,
   "metadata": {},
   "outputs": [],
   "source": [
    "from pyspark.sql.functions import stddev, mean, col, max, min, abs, skewness, kurtosis"
   ]
  },
  {
   "cell_type": "code",
   "execution_count": 26,
   "metadata": {},
   "outputs": [
    {
     "name": "stdout",
     "output_type": "stream",
     "text": [
      "STD = 1.2916\n"
     ]
    }
   ],
   "source": [
    "print(\"STD = %.4f\" % df1.select(stddev(\"Dependent_count\")).first()[0])"
   ]
  },
  {
   "cell_type": "code",
   "execution_count": 25,
   "metadata": {},
   "outputs": [
    {
     "data": {
      "text/plain": [
       "['Customer_Age',\n",
       " 'Dependent_count',\n",
       " 'Months_on_book',\n",
       " 'Total_Relationship_Count',\n",
       " 'Months_Inactive_12_mon',\n",
       " 'Contacts_Count_12_mon',\n",
       " 'Credit_Limit',\n",
       " 'Total_Revolving_Bal',\n",
       " 'Avg_Open_To_Buy',\n",
       " 'Total_Amt_Chng_Q4_Q1',\n",
       " 'Total_Trans_Amt',\n",
       " 'Total_Trans_Ct',\n",
       " 'Total_Ct_Chng_Q4_Q1',\n",
       " 'Avg_Utilization_Ratio',\n",
       " 'Card_Category-Label',\n",
       " 'Gender-Label',\n",
       " 'Income_Category-Label',\n",
       " 'Marital_Status-Label',\n",
       " 'Attrition_Flag-Label',\n",
       " 'Education_Level-Label']"
      ]
     },
     "execution_count": 25,
     "metadata": {},
     "output_type": "execute_result"
    }
   ],
   "source": [
    "df1.columns"
   ]
  },
  {
   "cell_type": "code",
   "execution_count": 26,
   "metadata": {},
   "outputs": [],
   "source": [
    "colsToStandardize = ['Customer_Age','Dependent_count','Months_on_book','Total_Relationship_Count','Months_Inactive_12_mon', \\\n",
    "                     'Contacts_Count_12_mon','Credit_Limit','Total_Revolving_Bal','Avg_Open_To_Buy','Total_Amt_Chng_Q4_Q1', \\\n",
    "                     'Total_Trans_Amt','Total_Trans_Ct','Total_Ct_Chng_Q4_Q1','Avg_Utilization_Ratio']"
   ]
  },
  {
   "cell_type": "code",
   "execution_count": 70,
   "metadata": {},
   "outputs": [],
   "source": [
    "df1 = ZVALUES(df1, colsToStandardize)"
   ]
  },
  {
   "cell_type": "code",
   "execution_count": 29,
   "metadata": {},
   "outputs": [
    {
     "data": {
      "text/plain": [
       "['Card_Category-Label',\n",
       " 'Gender-Label',\n",
       " 'Income_Category-Label',\n",
       " 'Marital_Status-Label',\n",
       " 'Attrition_Flag-Label',\n",
       " 'Education_Level-Label',\n",
       " 'ZScore-Customer_Age',\n",
       " 'ZScore-Dependent_count',\n",
       " 'ZScore-Months_on_book',\n",
       " 'ZScore-Total_Relationship_Count',\n",
       " 'ZScore-Months_Inactive_12_mon',\n",
       " 'ZScore-Contacts_Count_12_mon',\n",
       " 'ZScore-Credit_Limit',\n",
       " 'ZScore-Total_Revolving_Bal',\n",
       " 'ZScore-Avg_Open_To_Buy',\n",
       " 'ZScore-Total_Amt_Chng_Q4_Q1',\n",
       " 'ZScore-Total_Trans_Amt',\n",
       " 'ZScore-Total_Trans_Ct',\n",
       " 'ZScore-Total_Ct_Chng_Q4_Q1',\n",
       " 'ZScore-Avg_Utilization_Ratio']"
      ]
     },
     "execution_count": 29,
     "metadata": {},
     "output_type": "execute_result"
    }
   ],
   "source": [
    "df1.columns"
   ]
  },
  {
   "cell_type": "markdown",
   "metadata": {},
   "source": [
    "### Filter Out Outliers in the Above Normalized Columns with |z| > 3.0000"
   ]
  },
  {
   "cell_type": "code",
   "execution_count": 30,
   "metadata": {},
   "outputs": [
    {
     "name": "stdout",
     "output_type": "stream",
     "text": [
      "ZScore-Customer_Age\n",
      "ZScore-Dependent_count\n",
      "ZScore-Months_on_book\n",
      "ZScore-Total_Relationship_Count\n",
      "ZScore-Months_Inactive_12_mon\n",
      "ZScore-Contacts_Count_12_mon\n",
      "ZScore-Credit_Limit\n",
      "ZScore-Total_Revolving_Bal\n",
      "ZScore-Avg_Open_To_Buy\n",
      "ZScore-Total_Amt_Chng_Q4_Q1\n",
      "ZScore-Total_Trans_Amt\n",
      "ZScore-Total_Trans_Ct\n",
      "ZScore-Total_Ct_Chng_Q4_Q1\n",
      "ZScore-Avg_Utilization_Ratio\n"
     ]
    }
   ],
   "source": [
    "colsForOutliers = []\n",
    "\n",
    "for coL in colsToStandardize:\n",
    "    colsForOutliers.append(\"ZScore-\"+coL)\n",
    "\n",
    "for coL in colsForOutliers:\n",
    "    print(coL)\n",
    "#    df1 = df1.filter( (df1[coL] <= 3.0) & (df1[coL] >= -3))\n",
    "    df1 = df1.filter(abs(df1[coL]) <= 3.0)"
   ]
  },
  {
   "cell_type": "code",
   "execution_count": 27,
   "metadata": {},
   "outputs": [
    {
     "data": {
      "text/plain": [
       "['Card_Category-Label',\n",
       " 'Gender-Label',\n",
       " 'Income_Category-Label',\n",
       " 'Marital_Status-Label',\n",
       " 'Attrition_Flag-Label',\n",
       " 'Education_Level-Label',\n",
       " 'ZScore-Customer_Age',\n",
       " 'ZScore-Dependent_count',\n",
       " 'ZScore-Months_on_book',\n",
       " 'ZScore-Total_Relationship_Count',\n",
       " 'ZScore-Months_Inactive_12_mon',\n",
       " 'ZScore-Contacts_Count_12_mon',\n",
       " 'ZScore-Credit_Limit',\n",
       " 'ZScore-Total_Revolving_Bal',\n",
       " 'ZScore-Avg_Open_To_Buy',\n",
       " 'ZScore-Total_Amt_Chng_Q4_Q1',\n",
       " 'ZScore-Total_Trans_Amt',\n",
       " 'ZScore-Total_Trans_Ct',\n",
       " 'ZScore-Total_Ct_Chng_Q4_Q1',\n",
       " 'ZScore-Avg_Utilization_Ratio']"
      ]
     },
     "execution_count": 27,
     "metadata": {},
     "output_type": "execute_result"
    }
   ],
   "source": [
    "df1.columns"
   ]
  },
  {
   "cell_type": "code",
   "execution_count": 28,
   "metadata": {},
   "outputs": [
    {
     "data": {
      "text/plain": [
       "6559"
      ]
     },
     "execution_count": 28,
     "metadata": {},
     "output_type": "execute_result"
    }
   ],
   "source": [
    "df1.count()"
   ]
  },
  {
   "cell_type": "code",
   "execution_count": 37,
   "metadata": {},
   "outputs": [],
   "source": [
    "from pyspark.sql.functions import skewness, kurtosis, corr"
   ]
  },
  {
   "cell_type": "code",
   "execution_count": 38,
   "metadata": {},
   "outputs": [
    {
     "name": "stdout",
     "output_type": "stream",
     "text": [
      "***********************************\n",
      "Z Column =  ZScore-Customer_Age\n",
      "Max = 2.9414\n",
      "Min = -2.5304\n",
      "STDEV = 0.9949\n",
      "SKEWNESS = -0.0382\n",
      "KURTOSIS = -0.3415\n",
      "***********************************\n",
      "\n",
      "***********************************\n",
      "Z Column =  ZScore-Dependent_count\n",
      "Max = 2.0611\n",
      "Min = -1.8099\n",
      "STDEV = 0.9989\n",
      "SKEWNESS = -0.0368\n",
      "KURTOSIS = -0.6657\n",
      "***********************************\n",
      "\n",
      "***********************************\n",
      "Z Column =  ZScore-Months_on_book\n",
      "Max = 2.5015\n",
      "Min = -2.8717\n",
      "STDEV = 0.9977\n",
      "SKEWNESS = -0.0752\n",
      "KURTOSIS = 0.3104\n",
      "***********************************\n",
      "\n",
      "***********************************\n",
      "Z Column =  ZScore-Total_Relationship_Count\n",
      "Max = 1.4119\n",
      "Min = -1.8255\n",
      "STDEV = 0.9969\n",
      "SKEWNESS = -0.1988\n",
      "KURTOSIS = -0.9708\n",
      "***********************************\n",
      "\n",
      "***********************************\n",
      "Z Column =  ZScore-Months_Inactive_12_mon\n",
      "Max = 2.6705\n",
      "Min = -2.3541\n",
      "STDEV = 0.9315\n",
      "SKEWNESS = 0.2062\n",
      "KURTOSIS = -0.1276\n",
      "***********************************\n",
      "\n",
      "***********************************\n",
      "Z Column =  ZScore-Contacts_Count_12_mon\n",
      "Max = 2.3038\n",
      "Min = -2.2214\n",
      "STDEV = 0.9808\n",
      "SKEWNESS = -0.1384\n",
      "KURTOSIS = -0.2947\n",
      "***********************************\n",
      "\n",
      "***********************************\n",
      "Z Column =  ZScore-Credit_Limit\n",
      "Max = 2.8515\n",
      "Min = -0.7730\n",
      "STDEV = 0.9868\n",
      "SKEWNESS = 1.7544\n",
      "KURTOSIS = 2.1211\n",
      "***********************************\n",
      "\n",
      "***********************************\n",
      "Z Column =  ZScore-Total_Revolving_Bal\n",
      "Max = 1.6613\n",
      "Min = -1.4373\n",
      "STDEV = 0.9998\n",
      "SKEWNESS = -0.1384\n",
      "KURTOSIS = -1.1393\n",
      "***********************************\n",
      "\n",
      "***********************************\n",
      "Z Column =  ZScore-Avg_Open_To_Buy\n",
      "Max = 2.9778\n",
      "Min = -0.8019\n",
      "STDEV = 0.9869\n",
      "SKEWNESS = 1.7498\n",
      "KURTOSIS = 2.1107\n",
      "***********************************\n",
      "\n",
      "***********************************\n",
      "Z Column =  ZScore-Total_Amt_Chng_Q4_Q1\n",
      "Max = 3.0000\n",
      "Min = -2.8708\n",
      "STDEV = 0.8300\n",
      "SKEWNESS = 0.4792\n",
      "KURTOSIS = 0.8159\n",
      "***********************************\n",
      "\n",
      "***********************************\n",
      "Z Column =  ZScore-Total_Trans_Amt\n",
      "Max = 2.9975\n",
      "Min = -1.1199\n",
      "STDEV = 0.8048\n",
      "SKEWNESS = 2.0626\n",
      "KURTOSIS = 4.8963\n",
      "***********************************\n",
      "\n",
      "***********************************\n",
      "Z Column =  ZScore-Total_Trans_Ct\n",
      "Max = 2.8349\n",
      "Min = -2.2892\n",
      "STDEV = 0.9306\n",
      "SKEWNESS = 0.0273\n",
      "KURTOSIS = -0.4601\n",
      "***********************************\n",
      "\n",
      "***********************************\n",
      "Z Column =  ZScore-Total_Ct_Chng_Q4_Q1\n",
      "Max = 2.9724\n",
      "Min = -2.9808\n",
      "STDEV = 0.8301\n",
      "SKEWNESS = 0.1917\n",
      "KURTOSIS = 0.6666\n",
      "***********************************\n",
      "\n",
      "***********************************\n",
      "Z Column =  ZScore-Avg_Utilization_Ratio\n",
      "Max = 2.5712\n",
      "Min = -1.0128\n",
      "STDEV = 1.0073\n",
      "SKEWNESS = 0.6520\n",
      "KURTOSIS = -0.9051\n",
      "***********************************\n",
      "\n"
     ]
    }
   ],
   "source": [
    "for col in colsForOutliers:\n",
    "    MAX, MIN, STDEV, SKEW, KURT = df1.select(max(col), min(col), stddev(col), skewness(col), kurtosis(col)).first()\n",
    "    print(\"***********************************\")\n",
    "    print(\"Z Column = \", col)\n",
    "    print(\"Max = %.4f\" % MAX)\n",
    "    print(\"Min = %.4f\" % MIN)\n",
    "    print(\"STDEV = %.4f\" % STDEV)\n",
    "    print(\"SKEWNESS = %.4f\" % SKEW)\n",
    "    print(\"KURTOSIS = %.4f\" % KURT)\n",
    "    print(\"***********************************\\n\")\n",
    "    "
   ]
  },
  {
   "cell_type": "code",
   "execution_count": 35,
   "metadata": {},
   "outputs": [],
   "source": [
    "from pyspark.sql.functions import corr, kurtosis, skewness"
   ]
  },
  {
   "cell_type": "code",
   "execution_count": 36,
   "metadata": {},
   "outputs": [],
   "source": [
    "NUMBER_OF_FEATURES = len(df1.columns)"
   ]
  },
  {
   "cell_type": "code",
   "execution_count": 37,
   "metadata": {},
   "outputs": [
    {
     "name": "stdout",
     "output_type": "stream",
     "text": [
      "Correlation Between ZScore-Customer_Age and ZScore-Months_on_book is 0.7914\n",
      "Correlation Between ZScore-Credit_Limit and ZScore-Avg_Open_To_Buy is 0.9959\n",
      "Correlation Between ZScore-Total_Trans_Amt and ZScore-Total_Trans_Ct is 0.7933\n"
     ]
    }
   ],
   "source": [
    "for i in range(6, NUMBER_OF_FEATURES):\n",
    "    for j in range(i+1, NUMBER_OF_FEATURES):\n",
    "        CORR = df1.select(corr(df1.columns[i],df1.columns[j])).first()[0]\n",
    "#        print(\"The Columns are %s AND %s\" % (df1.columns[i], df1.columns[j]))\n",
    "        if float(CORR) > 0.7:\n",
    "            print(\"Correlation Between %s and %s is %.4f\" % (df1.columns[i],df1.columns[j],CORR))\n",
    "    "
   ]
  },
  {
   "cell_type": "code",
   "execution_count": 48,
   "metadata": {},
   "outputs": [],
   "source": [
    "KURTOSIS = df1.select(kurtosis('ZScore-Customer_Age')).first()"
   ]
  },
  {
   "cell_type": "code",
   "execution_count": 49,
   "metadata": {},
   "outputs": [
    {
     "name": "stdout",
     "output_type": "stream",
     "text": [
      "The Kurtosis is -0.3415\n"
     ]
    }
   ],
   "source": [
    "print(\"The Kurtosis is %.4f\" % KURTOSIS)"
   ]
  },
  {
   "cell_type": "code",
   "execution_count": 50,
   "metadata": {},
   "outputs": [],
   "source": [
    "SKEWNESS = df1.select(skewness('ZScore-Credit_Limit')).first()"
   ]
  },
  {
   "cell_type": "code",
   "execution_count": 51,
   "metadata": {},
   "outputs": [
    {
     "name": "stdout",
     "output_type": "stream",
     "text": [
      "The Skewness is 1.7544\n"
     ]
    }
   ],
   "source": [
    "print(\"The Skewness is %.4f\" % SKEWNESS)"
   ]
  },
  {
   "cell_type": "markdown",
   "metadata": {},
   "source": [
    "### Now Let's Proceed with One Hot Encoding on the Gender Column ..."
   ]
  },
  {
   "cell_type": "code",
   "execution_count": 31,
   "metadata": {},
   "outputs": [],
   "source": [
    "from pyspark.ml.feature import OneHotEncoder as ONEHOT\n",
    "\n",
    "#from pyspark.ml.feature.OneHotEncoder(self, includeFirst=True, inputCol=None, outputCol=None)[source]¶"
   ]
  },
  {
   "cell_type": "code",
   "execution_count": 32,
   "metadata": {},
   "outputs": [],
   "source": [
    "df1 = oneHotEncoder(df1,['Gender-Label'],['Hot-Gender-Label'])"
   ]
  },
  {
   "cell_type": "code",
   "execution_count": 33,
   "metadata": {},
   "outputs": [
    {
     "name": "stdout",
     "output_type": "stream",
     "text": [
      "+----------------+\n",
      "|Hot-Gender-Label|\n",
      "+----------------+\n",
      "|   (1,[0],[1.0])|\n",
      "|   (1,[0],[1.0])|\n",
      "|   (1,[0],[1.0])|\n",
      "|   (1,[0],[1.0])|\n",
      "|       (1,[],[])|\n",
      "|   (1,[0],[1.0])|\n",
      "|   (1,[0],[1.0])|\n",
      "|   (1,[0],[1.0])|\n",
      "|       (1,[],[])|\n",
      "|       (1,[],[])|\n",
      "+----------------+\n",
      "only showing top 10 rows\n",
      "\n"
     ]
    }
   ],
   "source": [
    "df1.select(['Hot-Gender-Label']).show(10)"
   ]
  },
  {
   "cell_type": "code",
   "execution_count": 34,
   "metadata": {},
   "outputs": [
    {
     "data": {
      "text/plain": [
       "['Card_Category-Label',\n",
       " 'Income_Category-Label',\n",
       " 'Marital_Status-Label',\n",
       " 'Attrition_Flag-Label',\n",
       " 'Education_Level-Label',\n",
       " 'ZScore-Customer_Age',\n",
       " 'ZScore-Dependent_count',\n",
       " 'ZScore-Months_on_book',\n",
       " 'ZScore-Total_Relationship_Count',\n",
       " 'ZScore-Months_Inactive_12_mon',\n",
       " 'ZScore-Contacts_Count_12_mon',\n",
       " 'ZScore-Credit_Limit',\n",
       " 'ZScore-Total_Revolving_Bal',\n",
       " 'ZScore-Avg_Open_To_Buy',\n",
       " 'ZScore-Total_Amt_Chng_Q4_Q1',\n",
       " 'ZScore-Total_Trans_Amt',\n",
       " 'ZScore-Total_Trans_Ct',\n",
       " 'ZScore-Total_Ct_Chng_Q4_Q1',\n",
       " 'ZScore-Avg_Utilization_Ratio',\n",
       " 'Hot-Gender-Label']"
      ]
     },
     "execution_count": 34,
     "metadata": {},
     "output_type": "execute_result"
    }
   ],
   "source": [
    "df1.columns"
   ]
  },
  {
   "cell_type": "markdown",
   "metadata": {},
   "source": [
    "### Extracting a Column as a List from Spark Data Frame"
   ]
  },
  {
   "cell_type": "code",
   "execution_count": 35,
   "metadata": {},
   "outputs": [],
   "source": [
    "mm = df1.select(\"ZScore-Customer_Age\").rdd.map(lambda x : x[0]).collect()"
   ]
  },
  {
   "cell_type": "code",
   "execution_count": 37,
   "metadata": {},
   "outputs": [
    {
     "data": {
      "text/plain": [
       "list"
      ]
     },
     "execution_count": 37,
     "metadata": {},
     "output_type": "execute_result"
    }
   ],
   "source": [
    "type(mm)"
   ]
  },
  {
   "cell_type": "code",
   "execution_count": 178,
   "metadata": {},
   "outputs": [],
   "source": [
    "mmList = []\n",
    "for i in range(len(mm)):\n",
    "    mmList.append(mm[i][0])"
   ]
  },
  {
   "cell_type": "markdown",
   "metadata": {},
   "source": [
    "#### Another Example of Extracting Column as List ..."
   ]
  },
  {
   "cell_type": "code",
   "execution_count": 95,
   "metadata": {},
   "outputs": [],
   "source": [
    "vv = df1.select(\"Hot-Gender-Label\").collect()"
   ]
  },
  {
   "cell_type": "code",
   "execution_count": 96,
   "metadata": {},
   "outputs": [],
   "source": [
    "vvList = []\n",
    "for i in range(len(vv)):\n",
    "    vvList.append(vv[i][0])"
   ]
  },
  {
   "cell_type": "markdown",
   "metadata": {},
   "source": [
    "### Let's try some Clustering Algorithms (Unsupervised ML)"
   ]
  },
  {
   "cell_type": "markdown",
   "metadata": {},
   "source": [
    "### (a) Using KMeans Clustering ... "
   ]
  },
  {
   "cell_type": "code",
   "execution_count": 35,
   "metadata": {},
   "outputs": [],
   "source": [
    "df1Label = 'Attrition_Flag-Label'"
   ]
  },
  {
   "cell_type": "code",
   "execution_count": 36,
   "metadata": {},
   "outputs": [],
   "source": [
    "df2 = df1.drop(df1Label)"
   ]
  },
  {
   "cell_type": "code",
   "execution_count": 37,
   "metadata": {},
   "outputs": [
    {
     "data": {
      "text/plain": [
       "['Card_Category-Label',\n",
       " 'Income_Category-Label',\n",
       " 'Marital_Status-Label',\n",
       " 'Education_Level-Label',\n",
       " 'ZScore-Customer_Age',\n",
       " 'ZScore-Dependent_count',\n",
       " 'ZScore-Months_on_book',\n",
       " 'ZScore-Total_Relationship_Count',\n",
       " 'ZScore-Months_Inactive_12_mon',\n",
       " 'ZScore-Contacts_Count_12_mon',\n",
       " 'ZScore-Credit_Limit',\n",
       " 'ZScore-Total_Revolving_Bal',\n",
       " 'ZScore-Avg_Open_To_Buy',\n",
       " 'ZScore-Total_Amt_Chng_Q4_Q1',\n",
       " 'ZScore-Total_Trans_Amt',\n",
       " 'ZScore-Total_Trans_Ct',\n",
       " 'ZScore-Total_Ct_Chng_Q4_Q1',\n",
       " 'ZScore-Avg_Utilization_Ratio',\n",
       " 'Hot-Gender-Label']"
      ]
     },
     "execution_count": 37,
     "metadata": {},
     "output_type": "execute_result"
    }
   ],
   "source": [
    "df2.columns"
   ]
  },
  {
   "cell_type": "code",
   "execution_count": 38,
   "metadata": {},
   "outputs": [],
   "source": [
    "from pyspark.ml.clustering import KMeans\n",
    "from pyspark.ml.evaluation import ClusteringEvaluator\n",
    "from pyspark.ml import Pipeline\n",
    "from pyspark.ml.feature import VectorAssembler"
   ]
  },
  {
   "cell_type": "code",
   "execution_count": 42,
   "metadata": {},
   "outputs": [],
   "source": [
    "vectorAssembler = VectorAssembler(inputCols = df2.columns, outputCol = \"features\")"
   ]
  },
  {
   "cell_type": "code",
   "execution_count": 33,
   "metadata": {},
   "outputs": [],
   "source": [
    "kmeans = KMeans().setK(2).setSeed(1)"
   ]
  },
  {
   "cell_type": "code",
   "execution_count": 34,
   "metadata": {},
   "outputs": [],
   "source": [
    "pipeline = Pipeline(stages = [vectorAssembler, kmeans])"
   ]
  },
  {
   "cell_type": "code",
   "execution_count": 35,
   "metadata": {},
   "outputs": [],
   "source": [
    "MODEL = pipeline.fit(df2)"
   ]
  },
  {
   "cell_type": "code",
   "execution_count": 36,
   "metadata": {},
   "outputs": [],
   "source": [
    "PREDICTIONS = MODEL.transform(df2)"
   ]
  },
  {
   "cell_type": "code",
   "execution_count": 37,
   "metadata": {},
   "outputs": [
    {
     "name": "stdout",
     "output_type": "stream",
     "text": [
      "+----------+\n",
      "|prediction|\n",
      "+----------+\n",
      "|         0|\n",
      "|         0|\n",
      "|         0|\n",
      "|         1|\n",
      "|         1|\n",
      "+----------+\n",
      "only showing top 5 rows\n",
      "\n"
     ]
    }
   ],
   "source": [
    "PREDICTIONS.select('prediction').show(5)"
   ]
  },
  {
   "cell_type": "code",
   "execution_count": 38,
   "metadata": {},
   "outputs": [
    {
     "name": "stdout",
     "output_type": "stream",
     "text": [
      "Silhouette with Squared Euclidean Distance = 0.2604\n"
     ]
    }
   ],
   "source": [
    "evaluator = ClusteringEvaluator()\n",
    "silhouette = evaluator.evaluate(PREDICTIONS)\n",
    "print(\"Silhouette with Squared Euclidean Distance = %.4f\" % silhouette)"
   ]
  },
  {
   "cell_type": "code",
   "execution_count": 42,
   "metadata": {},
   "outputs": [
    {
     "data": {
      "text/plain": [
       "['Card_Category-Label',\n",
       " 'Income_Category-Label',\n",
       " 'Marital_Status-Label',\n",
       " 'Education_Level-Label',\n",
       " 'ZScore-Customer_Age',\n",
       " 'ZScore-Dependent_count',\n",
       " 'ZScore-Months_on_book',\n",
       " 'ZScore-Total_Relationship_Count',\n",
       " 'ZScore-Months_Inactive_12_mon',\n",
       " 'ZScore-Contacts_Count_12_mon',\n",
       " 'ZScore-Credit_Limit',\n",
       " 'ZScore-Total_Revolving_Bal',\n",
       " 'ZScore-Avg_Open_To_Buy',\n",
       " 'ZScore-Total_Amt_Chng_Q4_Q1',\n",
       " 'ZScore-Total_Trans_Amt',\n",
       " 'ZScore-Total_Trans_Ct',\n",
       " 'ZScore-Total_Ct_Chng_Q4_Q1',\n",
       " 'ZScore-Avg_Utilization_Ratio',\n",
       " 'Hot-Gender-Label',\n",
       " 'features',\n",
       " 'prediction']"
      ]
     },
     "execution_count": 42,
     "metadata": {},
     "output_type": "execute_result"
    }
   ],
   "source": [
    "PREDICTIONS.columns"
   ]
  },
  {
   "cell_type": "code",
   "execution_count": 39,
   "metadata": {},
   "outputs": [],
   "source": [
    "df2Slice0 = PREDICTIONS.filter(PREDICTIONS['prediction'] == 0)"
   ]
  },
  {
   "cell_type": "code",
   "execution_count": 40,
   "metadata": {},
   "outputs": [
    {
     "data": {
      "text/plain": [
       "pyspark.sql.dataframe.DataFrame"
      ]
     },
     "execution_count": 40,
     "metadata": {},
     "output_type": "execute_result"
    }
   ],
   "source": [
    "type(df2Slice0)"
   ]
  },
  {
   "cell_type": "code",
   "execution_count": 41,
   "metadata": {},
   "outputs": [],
   "source": [
    "df2Slice1 = PREDICTIONS.filter(PREDICTIONS['prediction'] == 1)"
   ]
  },
  {
   "cell_type": "code",
   "execution_count": 42,
   "metadata": {},
   "outputs": [],
   "source": [
    "import numpy as np"
   ]
  },
  {
   "cell_type": "code",
   "execution_count": 51,
   "metadata": {},
   "outputs": [],
   "source": [
    "Age0 = df2Slice0.select('ZScore-Customer_Age').rdd.map(lambda Row : Row[0]).collect()"
   ]
  },
  {
   "cell_type": "code",
   "execution_count": 52,
   "metadata": {},
   "outputs": [],
   "source": [
    "Age1 = df2Slice1.select('ZScore-Customer_Age').rdd.map(lambda Row : Row[0]).collect()"
   ]
  },
  {
   "cell_type": "code",
   "execution_count": 53,
   "metadata": {},
   "outputs": [
    {
     "data": {
      "text/plain": [
       "4235"
      ]
     },
     "execution_count": 53,
     "metadata": {},
     "output_type": "execute_result"
    }
   ],
   "source": [
    "len(Age1)"
   ]
  },
  {
   "cell_type": "code",
   "execution_count": 54,
   "metadata": {},
   "outputs": [],
   "source": [
    "from random import sample"
   ]
  },
  {
   "cell_type": "code",
   "execution_count": 55,
   "metadata": {},
   "outputs": [],
   "source": [
    "Age0 = sample(Age0, 100)\n",
    "Age1 = sample(Age1, 100)"
   ]
  },
  {
   "cell_type": "code",
   "execution_count": 57,
   "metadata": {},
   "outputs": [],
   "source": [
    "from matplotlib import pyplot as plt"
   ]
  },
  {
   "cell_type": "code",
   "execution_count": 59,
   "metadata": {},
   "outputs": [
    {
     "data": {
      "image/png": "[encoded data removed]",
      "text/plain": [
       "<Figure size 432x288 with 1 Axes>"
      ]
     },
     "metadata": {
      "needs_background": "light"
     },
     "output_type": "display_data"
    }
   ],
   "source": [
    "plt.hist(Age0, edgecolor = 'black', color = 'magenta')\n",
    "plt.show()"
   ]
  },
  {
   "cell_type": "code",
   "execution_count": 60,
   "metadata": {},
   "outputs": [
    {
     "data": {
      "image/png": "[encoded data removed]",
      "text/plain": [
       "<Figure size 432x288 with 1 Axes>"
      ]
     },
     "metadata": {
      "needs_background": "light"
     },
     "output_type": "display_data"
    }
   ],
   "source": [
    "plt.boxplot(Age0)\n",
    "plt.show()"
   ]
  },
  {
   "cell_type": "code",
   "execution_count": 61,
   "metadata": {},
   "outputs": [
    {
     "data": {
      "image/png": "[encoded data removed]",
      "text/plain": [
       "<Figure size 432x288 with 1 Axes>"
      ]
     },
     "metadata": {
      "needs_background": "light"
     },
     "output_type": "display_data"
    }
   ],
   "source": [
    "plt.hist(Age1,edgecolor = 'black', color = 'red')\n",
    "plt.show()"
   ]
  },
  {
   "cell_type": "code",
   "execution_count": 62,
   "metadata": {},
   "outputs": [
    {
     "data": {
      "image/png": "[encoded data removed]",
      "text/plain": [
       "<Figure size 432x288 with 1 Axes>"
      ]
     },
     "metadata": {
      "needs_background": "light"
     },
     "output_type": "display_data"
    }
   ],
   "source": [
    "plt.boxplot(Age1)\n",
    "plt.show()"
   ]
  },
  {
   "cell_type": "code",
   "execution_count": 64,
   "metadata": {},
   "outputs": [],
   "source": [
    "Income0 = sample(df2Slice0.select('Income_Category-Label').rdd.map(lambda Row : Row[0]).collect(), 100)\n",
    "Income1 = sample(df2Slice1.select('Income_Category-Label').rdd.map(lambda Row : Row[0]).collect(), 100)"
   ]
  },
  {
   "cell_type": "code",
   "execution_count": 65,
   "metadata": {},
   "outputs": [
    {
     "data": {
      "image/png": "[encoded data removed]",
      "text/plain": [
       "<Figure size 432x288 with 1 Axes>"
      ]
     },
     "metadata": {
      "needs_background": "light"
     },
     "output_type": "display_data"
    }
   ],
   "source": [
    "plt.hist(Income0, edgecolor = 'green', color = 'yellow')\n",
    "plt.show()"
   ]
  },
  {
   "cell_type": "code",
   "execution_count": 66,
   "metadata": {},
   "outputs": [
    {
     "data": {
      "image/png": "[encoded data removed]",
      "text/plain": [
       "<Figure size 432x288 with 1 Axes>"
      ]
     },
     "metadata": {
      "needs_background": "light"
     },
     "output_type": "display_data"
    }
   ],
   "source": [
    "plt.hist(Income1, edgecolor = 'red', color = 'cyan')\n",
    "plt.show()"
   ]
  },
  {
   "cell_type": "markdown",
   "metadata": {},
   "source": [
    "### Beautiful Pictures Above!!"
   ]
  },
  {
   "cell_type": "markdown",
   "metadata": {},
   "source": [
    "### (b) Using Latent Dirichlet Allocation (LDA)"
   ]
  },
  {
   "cell_type": "code",
   "execution_count": 72,
   "metadata": {},
   "outputs": [],
   "source": [
    "from pyspark.ml.clustering import LDA"
   ]
  },
  {
   "cell_type": "code",
   "execution_count": 82,
   "metadata": {},
   "outputs": [],
   "source": [
    "df2 = df1.drop(df1Label)"
   ]
  },
  {
   "cell_type": "code",
   "execution_count": 83,
   "metadata": {},
   "outputs": [],
   "source": [
    "lda = LDA(k = 2, maxIter = 2)"
   ]
  },
  {
   "cell_type": "code",
   "execution_count": 84,
   "metadata": {},
   "outputs": [],
   "source": [
    "vectorAssembler = VectorAssembler(inputCols = df2.columns, outputCol = \"features\")"
   ]
  },
  {
   "cell_type": "code",
   "execution_count": 85,
   "metadata": {},
   "outputs": [],
   "source": [
    "pipeline = Pipeline(stages = [vectorAssembler, lda])"
   ]
  },
  {
   "cell_type": "code",
   "execution_count": null,
   "metadata": {},
   "outputs": [],
   "source": [
    "MODEL = pipeline.fit(df2)"
   ]
  },
  {
   "cell_type": "code",
   "execution_count": null,
   "metadata": {},
   "outputs": [],
   "source": [
    "PREDICTIONS = MODEL.transform(df2)"
   ]
  },
  {
   "cell_type": "code",
   "execution_count": null,
   "metadata": {},
   "outputs": [],
   "source": [
    "ll = model.logLikelihood(dataset)\n",
    "lp = model.logPerplexity(dataset)\n",
    "print(\"The lower bound on the log likelihood of the entire corpus: \" + str(ll))\n",
    "print(\"The upper bound on perplexity: \" + str(lp))"
   ]
  },
  {
   "cell_type": "markdown",
   "metadata": {},
   "source": [
    "### (c) Using Bisecting K-Means"
   ]
  },
  {
   "cell_type": "code",
   "execution_count": 34,
   "metadata": {},
   "outputs": [],
   "source": [
    "from pyspark.ml.clustering import BisectingKMeans"
   ]
  },
  {
   "cell_type": "code",
   "execution_count": 35,
   "metadata": {},
   "outputs": [],
   "source": [
    "bkm = BisectingKMeans().setK(2).setSeed(1)"
   ]
  },
  {
   "cell_type": "code",
   "execution_count": 36,
   "metadata": {},
   "outputs": [],
   "source": [
    "pipeline = Pipeline(stages = [vectorAssembler, bkm])"
   ]
  },
  {
   "cell_type": "code",
   "execution_count": 37,
   "metadata": {},
   "outputs": [],
   "source": [
    "MODEL = pipeline.fit(df2)"
   ]
  },
  {
   "cell_type": "code",
   "execution_count": 38,
   "metadata": {},
   "outputs": [],
   "source": [
    "PREDICTIONS = MODEL.transform(df2)"
   ]
  },
  {
   "cell_type": "code",
   "execution_count": 40,
   "metadata": {},
   "outputs": [
    {
     "name": "stdout",
     "output_type": "stream",
     "text": [
      "+----------+\n",
      "|prediction|\n",
      "+----------+\n",
      "|         1|\n",
      "|         1|\n",
      "|         1|\n",
      "|         0|\n",
      "|         0|\n",
      "+----------+\n",
      "only showing top 5 rows\n",
      "\n"
     ]
    }
   ],
   "source": [
    "PREDICTIONS.select('prediction').show(5)"
   ]
  },
  {
   "cell_type": "code",
   "execution_count": 42,
   "metadata": {},
   "outputs": [
    {
     "name": "stdout",
     "output_type": "stream",
     "text": [
      "Silhouette with Squared Euclidean Distance = 0.2604\n"
     ]
    }
   ],
   "source": [
    "evaluator = ClusteringEvaluator()\n",
    "silhouette = evaluator.evaluate(PREDICTIONS)\n",
    "print(\"Silhouette with Squared Euclidean Distance = %.4f\" % silhouette)"
   ]
  },
  {
   "cell_type": "markdown",
   "metadata": {},
   "source": [
    "### (d) Using Gaussian Mixture Model (GMM)"
   ]
  },
  {
   "cell_type": "code",
   "execution_count": 39,
   "metadata": {},
   "outputs": [],
   "source": [
    "from pyspark.ml.clustering import GaussianMixture as GMM"
   ]
  },
  {
   "cell_type": "code",
   "execution_count": 40,
   "metadata": {},
   "outputs": [],
   "source": [
    "gmm = GMM().setK(2).setSeed(538009335)"
   ]
  },
  {
   "cell_type": "code",
   "execution_count": 43,
   "metadata": {},
   "outputs": [],
   "source": [
    "pipeline = Pipeline(stages = [vectorAssembler, gmm])"
   ]
  },
  {
   "cell_type": "code",
   "execution_count": 44,
   "metadata": {},
   "outputs": [],
   "source": [
    "MODEL = pipeline.fit(df2)"
   ]
  },
  {
   "cell_type": "code",
   "execution_count": 45,
   "metadata": {},
   "outputs": [],
   "source": [
    "PREDICTIONS = MODEL.transform(df2)"
   ]
  },
  {
   "cell_type": "code",
   "execution_count": 46,
   "metadata": {},
   "outputs": [
    {
     "name": "stdout",
     "output_type": "stream",
     "text": [
      "+----------+\n",
      "|prediction|\n",
      "+----------+\n",
      "|         1|\n",
      "|         0|\n",
      "|         0|\n",
      "|         1|\n",
      "|         1|\n",
      "+----------+\n",
      "only showing top 5 rows\n",
      "\n"
     ]
    }
   ],
   "source": [
    "PREDICTIONS.select('prediction').show(5)"
   ]
  },
  {
   "cell_type": "code",
   "execution_count": 47,
   "metadata": {},
   "outputs": [
    {
     "name": "stdout",
     "output_type": "stream",
     "text": [
      "Silhouette with Squared Euclidean Distance = 0.2118\n"
     ]
    }
   ],
   "source": [
    "evaluator = ClusteringEvaluator()\n",
    "silhouette = evaluator.evaluate(PREDICTIONS)\n",
    "print(\"Silhouette with Squared Euclidean Distance = %.4f\" % silhouette)"
   ]
  },
  {
   "cell_type": "markdown",
   "metadata": {},
   "source": [
    "#### Gaussian Mixture Model has the best Silhouette Score as of yet ..."
   ]
  },
  {
   "cell_type": "code",
   "execution_count": null,
   "metadata": {},
   "outputs": [],
   "source": []
  }
 ],
 "metadata": {
  "kernelspec": {
   "display_name": "Python 3",
   "language": "python",
   "name": "python3"
  },
  "language_info": {
   "codemirror_mode": {
    "name": "ipython",
    "version": 3
   },
   "file_extension": ".py",
   "mimetype": "text/x-python",
   "name": "python",
   "nbconvert_exporter": "python",
   "pygments_lexer": "ipython3",
   "version": "3.7.4"
  }
 },
 "nbformat": 4,
 "nbformat_minor": 1
}
