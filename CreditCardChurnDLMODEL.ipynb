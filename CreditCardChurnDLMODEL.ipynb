{
 "cells": [
  {
   "cell_type": "code",
   "execution_count": 1,
   "metadata": {},
   "outputs": [],
   "source": [
    "import types\n",
    "import pandas as pd\n",
    "\n",
    "\n",
    "df_data_1 = pd.read_csv(BankChurners.csv)\n",
    "\n",
    "# BankChurners.csv file provided ...\n",
    "\n"
   ]
  },
  {
   "cell_type": "code",
   "execution_count": 2,
   "metadata": {},
   "outputs": [],
   "source": [
    "# This part has Several Useful Functions and Import of Packages that we need in the Modeling That Follows\n",
    "#\n",
    "#\n",
    "\n",
    "from matplotlib import pyplot as plt\n",
    "from scipy.stats import *\n",
    "import numpy as np\n",
    "from sklearn.preprocessing import LabelEncoder\n",
    "import pylab as pl\n",
    "import scipy.optimize as opt\n",
    "from sklearn.model_selection import train_test_split\n",
    "from sklearn.metrics import classification_report, confusion_matrix\n",
    "import itertools\n",
    "%matplotlib inline \n",
    "\n",
    "\n",
    "def histRetained(dFrame, coL):\n",
    "    C = dFrame[coL][dFrame['Attrition_Flag'] == 0]\n",
    "    C = C.sample(n=100,random_state=1)\n",
    "#    plt.hist(C,color = 'green',edgecolor='white')\n",
    "    C.plot(kind='hist',figsize = (10, 8),color ='green',edgecolor='blue')\n",
    "#\n",
    "# plot and plt.hist give about the same results!!\n",
    "#\n",
    "    plt.xlabel(coL.upper())\n",
    "    plt.ylabel('Frequency of Retained Customers')\n",
    "    plt.title('Histogram of Retained Credit Card Customers Size n = 100')\n",
    "    plt.show()\n",
    "    return\n",
    "\n",
    "def histLost(dFrame, coL):\n",
    "    C = dFrame[coL][dFrame['Attrition_Flag'] == 1]\n",
    "    C = C.sample(n=100,random_state=1)\n",
    "#    plt.hist(C,color = 'red',edgecolor='black')\n",
    "    C.plot(kind = 'hist', figsize = (10,8),color='red',edgecolor='black')\n",
    "#\n",
    "# plot and plt.hist give about the same results!!\n",
    "#\n",
    "    plt.xlabel(coL.upper())\n",
    "    plt.ylabel('Frequency of Lost Customers')\n",
    "    plt.title('Histogram of Lost Credit Card Customers Size n = 100')\n",
    "    plt.show()\n",
    "    return\n",
    "    \n",
    "    \n",
    "def boxPlot(dFrame,coL):\n",
    "    dFrame[coL].plot(kind='box', figsize=(8, 6), color='black', vert=True)\n",
    "    plt.title('Box plot of ' + coL.upper() + ' Feature')\n",
    "    plt.ylabel('Statistics')\n",
    "    plt.show()\n",
    "    return\n",
    "\n",
    "\n",
    "def describeData(dFrame,coLs):\n",
    "    for coL in coLs:\n",
    "        print(dFrame[coL].describe())\n",
    "    return\n",
    "    \n",
    "    \n",
    "def stats(dFrame,coLs):\n",
    "    for coL in coLs:\n",
    "        print('Statistics for Feature ', coL)\n",
    "        print('Max = %.4f' % dFrame[coL].max())\n",
    "        print('Min = %.4f' %dFrame[coL].min())\n",
    "        print('Mean = %.4f' % dFrame[coL].mean())\n",
    "        print('Skewness = %.4f' % dFrame[coL].skew())\n",
    "        print('Kurtosis = %.4f' % dFrame[coL].kurtosis())\n",
    "        print('------------------------------------------------------\\n')\n",
    "    return\n",
    "    \n",
    "\n",
    "def removeOutliers(dFrame,coLs): #Here coLs is a LIST of columns from which OUTLIERS are to be removed ...\n",
    "    for coL in coLs:\n",
    "        dFrame = dFrame[np.abs(zscore(dFrame[coL])) < 3.0]\n",
    "    return dFrame\n",
    "\n",
    "\n",
    "def zscoreData(dFrame,coLs): # Here coLs is a LIST of columns (numeric) whose contents you wish to normalize (z)\n",
    "    for aCol in coLs:\n",
    "#        dFrame[aCol] = (dFrame[aCol]-dFrame[aCol].mean())/dFrame[aCol].std()\n",
    "        dFrame[aCol] = zscore(dFrame[aCol])\n",
    "    return dFrame\n",
    "    \n",
    "\n",
    "\n",
    "def cleanData(dFrame, Feature): # Here Feature is a Column Feature of dFrame based on which any missing or NULL data is removed.\n",
    "    dFrame = dFrame.drop_duplicates()\n",
    "    dFrame.dropna(axis = 0, inplace = True)\n",
    "    missing_data = dFrame.isnull()\n",
    "    dFrame = dFrame[dFrame[Feature] != missing_data[Feature]]\n",
    "    return dFrame\n",
    "    \n",
    "\n",
    "def LabelEncoding(dFrame,coLs):  # Here coLs is a LIST whose contents you wish to Label Encode 0, 1, 2, 3, ... etc.\n",
    "    labelEncoder = LabelEncoder()\n",
    "    for aCol in coLs:\n",
    "        dFrame[aCol] = labelEncoder.fit_transform(dFrame[aCol])\n",
    "    dFrame = pd.DataFrame(dFrame)\n",
    "    return dFrame\n",
    "\n",
    "\n",
    "def dropColumns(dFrame,coLs): # Here coLs is a list of columns to be dropped and must be passed as a LIST ...\n",
    "    dFrame.drop(coLs, axis = 1, inplace = True)\n",
    "    return dFrame\n",
    "\n",
    "    \n",
    "def oneHotEncoding(dFrame,coLs): # Here coLs is a LIST whose contents you wish to ONE-HOT encode ...\n",
    "    for col in coLs:\n",
    "        dFrame_oneHot = pd.get_dummies(dFrame[col],prefix = col, prefix_sep=\" \").astype('int64')\n",
    "        for oneHotcol in dFrame_oneHot.columns:\n",
    "            dFrame[oneHotcol] = dFrame_oneHot[oneHotcol]\n",
    "        dropColumns(dFrame, [col])\n",
    "    return dFrame\n",
    "    \n",
    "    \n",
    "def getFeatureColumns(dFrame,labelColumn):\n",
    "    return [x for x in dFrame.columns if x != labelColumn]\n",
    "\n",
    "\n",
    "def corRelation(dFrame): #Needs all columns to be at least Label Encoded Numerically\n",
    "    XDIM, YDIM = dFrame.corr().shape\n",
    "    for i in range(XDIM):\n",
    "        for j in range(i+1,YDIM):\n",
    "            if (dFrame.corr().iloc[i,j] > 0.7):\n",
    "                print('Feature1 = ', dFrame.columns[i], 'Feature2 = ',dFrame.columns[j], 'Correlation = %.4f' % dFrame.corr().iloc[i,j])\n",
    "    return\n",
    "    \n",
    "\n",
    "def plot_confusion_matrix(cm, classes,normalize=False,title='Confusion matrix',cmap=plt.cm.Oranges):\n",
    "    \"\"\"\n",
    "    This function prints and plots the confusion matrix.\n",
    "    Normalization can be applied by setting `normalize=True`.\n",
    "    \"\"\"\n",
    "    if normalize:\n",
    "        cm = cm.astype('float') / cm.sum(axis=1)[:, np.newaxis]\n",
    "        print(\"Normalized confusion matrix\")\n",
    "    else:\n",
    "        print('Confusion matrix, without normalization')\n",
    "\n",
    "    print(cm)\n",
    "\n",
    "    plt.imshow(cm, interpolation='nearest', cmap=cmap)\n",
    "    plt.title(title)\n",
    "    plt.colorbar()\n",
    "    tick_marks = np.arange(len(classes))\n",
    "    plt.xticks(tick_marks, classes, rotation=45)\n",
    "    plt.yticks(tick_marks, classes)\n",
    "\n",
    "    fmt = '.2f' if normalize else 'd'\n",
    "    thresh = cm.max() / 2.\n",
    "    for i, j in itertools.product(range(cm.shape[0]), range(cm.shape[1])):\n",
    "        plt.text(j, i, format(cm[i, j], fmt),\n",
    "                 horizontalalignment=\"center\",\n",
    "                 color=\"white\" if cm[i, j] > thresh else \"black\")\n",
    "\n",
    "    plt.tight_layout()\n",
    "    plt.ylabel('True label')\n",
    "    plt.xlabel('Predicted label')\n",
    "    return"
   ]
  },
  {
   "cell_type": "code",
   "execution_count": 3,
   "metadata": {},
   "outputs": [],
   "source": [
    "df1 = df_data_1"
   ]
  },
  {
   "cell_type": "code",
   "execution_count": 4,
   "metadata": {},
   "outputs": [
    {
     "data": {
      "text/plain": [
       "(10127, 23)"
      ]
     },
     "execution_count": 4,
     "metadata": {},
     "output_type": "execute_result"
    }
   ],
   "source": [
    "df1.shape"
   ]
  },
  {
   "cell_type": "code",
   "execution_count": 5,
   "metadata": {},
   "outputs": [
    {
     "data": {
      "text/plain": [
       "Index(['CLIENTNUM', 'Attrition_Flag', 'Customer_Age', 'Gender',\n",
       "       'Dependent_count', 'Education_Level', 'Marital_Status',\n",
       "       'Income_Category', 'Card_Category', 'Months_on_book',\n",
       "       'Total_Relationship_Count', 'Months_Inactive_12_mon',\n",
       "       'Contacts_Count_12_mon', 'Credit_Limit', 'Total_Revolving_Bal',\n",
       "       'Avg_Open_To_Buy', 'Total_Amt_Chng_Q4_Q1', 'Total_Trans_Amt',\n",
       "       'Total_Trans_Ct', 'Total_Ct_Chng_Q4_Q1', 'Avg_Utilization_Ratio',\n",
       "       'Naive_Bayes_Classifier_Attrition_Flag_Card_Category_Contacts_Count_12_mon_Dependent_count_Education_Level_Months_Inactive_12_mon_1',\n",
       "       'Naive_Bayes_Classifier_Attrition_Flag_Card_Category_Contacts_Count_12_mon_Dependent_count_Education_Level_Months_Inactive_12_mon_2'],\n",
       "      dtype='object')"
      ]
     },
     "execution_count": 5,
     "metadata": {},
     "output_type": "execute_result"
    }
   ],
   "source": [
    "df1.columns"
   ]
  },
  {
   "cell_type": "code",
   "execution_count": 6,
   "metadata": {},
   "outputs": [
    {
     "data": {
      "text/plain": [
       "Index(['CLIENTNUM', 'Attrition_Flag', 'Customer_Age', 'Gender',\n",
       "       'Dependent_count', 'Education_Level', 'Marital_Status',\n",
       "       'Income_Category', 'Card_Category', 'Months_on_book',\n",
       "       'Total_Relationship_Count', 'Months_Inactive_12_mon',\n",
       "       'Contacts_Count_12_mon', 'Credit_Limit', 'Total_Revolving_Bal',\n",
       "       'Avg_Open_To_Buy', 'Total_Amt_Chng_Q4_Q1', 'Total_Trans_Amt',\n",
       "       'Total_Trans_Ct', 'Total_Ct_Chng_Q4_Q1', 'Avg_Utilization_Ratio',\n",
       "       'Naive_Bayes_Classifier_Attrition_Flag_Card_Category_Contacts_Count_12_mon_Dependent_count_Education_Level_Months_Inactive_12_mon_1',\n",
       "       'Naive_Bayes_Classifier_Attrition_Flag_Card_Category_Contacts_Count_12_mon_Dependent_count_Education_Level_Months_Inactive_12_mon_2'],\n",
       "      dtype='object')"
      ]
     },
     "execution_count": 6,
     "metadata": {},
     "output_type": "execute_result"
    }
   ],
   "source": [
    "df1.columns.str.strip()"
   ]
  },
  {
   "cell_type": "markdown",
   "metadata": {},
   "source": [
    "## The plan: Clean Data, Drop Columns Not Needed, Take Out Outliers, Normalize, Label Encode, One Hot Encode (ETL Stuff..) Follow by Modeling ..."
   ]
  },
  {
   "cell_type": "code",
   "execution_count": 7,
   "metadata": {},
   "outputs": [],
   "source": [
    "# Takes out missing data, duplicate data, NaN and so on ...\n",
    "\n",
    "df1 = cleanData(df1,'CLIENTNUM')"
   ]
  },
  {
   "cell_type": "code",
   "execution_count": 8,
   "metadata": {},
   "outputs": [],
   "source": [
    "df1 = dropColumns(df1, [df1.columns[-1],df1.columns[-2],'CLIENTNUM'])"
   ]
  },
  {
   "cell_type": "code",
   "execution_count": 9,
   "metadata": {},
   "outputs": [],
   "source": [
    "df1 = df1[df1['Education_Level'] != 'Unknown']\n",
    "df1 = df1[df1['Marital_Status'] != 'Unknown']\n",
    "df1 = df1[df1['Income_Category'] != 'Unknown']"
   ]
  },
  {
   "cell_type": "code",
   "execution_count": 10,
   "metadata": {},
   "outputs": [
    {
     "data": {
      "text/plain": [
       "Index(['Attrition_Flag', 'Customer_Age', 'Gender', 'Dependent_count',\n",
       "       'Education_Level', 'Marital_Status', 'Income_Category', 'Card_Category',\n",
       "       'Months_on_book', 'Total_Relationship_Count', 'Months_Inactive_12_mon',\n",
       "       'Contacts_Count_12_mon', 'Credit_Limit', 'Total_Revolving_Bal',\n",
       "       'Avg_Open_To_Buy', 'Total_Amt_Chng_Q4_Q1', 'Total_Trans_Amt',\n",
       "       'Total_Trans_Ct', 'Total_Ct_Chng_Q4_Q1', 'Avg_Utilization_Ratio'],\n",
       "      dtype='object')"
      ]
     },
     "execution_count": 10,
     "metadata": {},
     "output_type": "execute_result"
    }
   ],
   "source": [
    "df1.columns"
   ]
  },
  {
   "cell_type": "markdown",
   "metadata": {},
   "source": [
    "### Use unique command as well as value_counts() to locate any other missing data ..."
   ]
  },
  {
   "cell_type": "code",
   "execution_count": 11,
   "metadata": {},
   "outputs": [
    {
     "data": {
      "text/plain": [
       "array(['High School', 'Graduate', 'Uneducated', 'College',\n",
       "       'Post-Graduate', 'Doctorate'], dtype=object)"
      ]
     },
     "execution_count": 11,
     "metadata": {},
     "output_type": "execute_result"
    }
   ],
   "source": [
    "df1['Education_Level'].unique()"
   ]
  },
  {
   "cell_type": "code",
   "execution_count": 13,
   "metadata": {},
   "outputs": [
    {
     "name": "stdout",
     "output_type": "stream",
     "text": [
      "Attrition_Flag\n",
      "Existing Customer    5968\n",
      "Attrited Customer    1113\n",
      "Name: Attrition_Flag, dtype: int64\n",
      "Customer_Age\n",
      "46    337\n",
      "45    331\n",
      "44    326\n",
      "49    326\n",
      "43    322\n",
      "48    319\n",
      "50    317\n",
      "47    314\n",
      "42    297\n",
      "53    288\n",
      "51    280\n",
      "41    279\n",
      "52    273\n",
      "40    244\n",
      "39    238\n",
      "38    219\n",
      "54    216\n",
      "55    209\n",
      "37    196\n",
      "56    190\n",
      "57    163\n",
      "36    158\n",
      "35    132\n",
      "59    116\n",
      "58    113\n",
      "34    105\n",
      "33     95\n",
      "60     89\n",
      "32     75\n",
      "61     68\n",
      "31     64\n",
      "65     64\n",
      "62     60\n",
      "26     48\n",
      "30     48\n",
      "29     44\n",
      "63     44\n",
      "64     31\n",
      "27     21\n",
      "28     15\n",
      "67      3\n",
      "68      1\n",
      "73      1\n",
      "66      1\n",
      "70      1\n",
      "Name: Customer_Age, dtype: int64\n",
      "Gender\n",
      "M    3706\n",
      "F    3375\n",
      "Name: Gender, dtype: int64\n",
      "Dependent_count\n",
      "3    1929\n",
      "2    1880\n",
      "1    1274\n",
      "4    1077\n",
      "0     636\n",
      "5     285\n",
      "Name: Dependent_count, dtype: int64\n",
      "Education_Level\n",
      "Graduate         2591\n",
      "High School      1653\n",
      "Uneducated       1204\n",
      "College           844\n",
      "Post-Graduate     431\n",
      "Doctorate         358\n",
      "Name: Education_Level, dtype: int64\n",
      "Marital_Status\n",
      "Married     3564\n",
      "Single      2948\n",
      "Divorced     569\n",
      "Name: Marital_Status, dtype: int64\n",
      "Income_Category\n",
      "Less than $40K    2792\n",
      "$40K - $60K       1412\n",
      "$80K - $120K      1202\n",
      "$60K - $80K       1103\n",
      "$120K +            572\n",
      "Name: Income_Category, dtype: int64\n",
      "Card_Category\n",
      "Blue        6598\n",
      "Silver       391\n",
      "Gold          81\n",
      "Platinum      11\n",
      "Name: Card_Category, dtype: int64\n",
      "Months_on_book\n",
      "36    1693\n",
      "37     242\n",
      "34     239\n",
      "40     239\n",
      "38     238\n",
      "35     233\n",
      "31     228\n",
      "39     224\n",
      "33     221\n",
      "30     208\n",
      "41     206\n",
      "28     205\n",
      "32     191\n",
      "43     189\n",
      "42     187\n",
      "44     167\n",
      "45     166\n",
      "29     160\n",
      "27     154\n",
      "46     142\n",
      "47     132\n",
      "26     132\n",
      "25     119\n",
      "48     113\n",
      "24     108\n",
      "49      97\n",
      "23      85\n",
      "56      74\n",
      "50      73\n",
      "22      70\n",
      "53      65\n",
      "21      61\n",
      "51      58\n",
      "20      55\n",
      "19      45\n",
      "52      40\n",
      "54      40\n",
      "18      40\n",
      "13      39\n",
      "17      32\n",
      "55      21\n",
      "15      21\n",
      "16      19\n",
      "14      10\n",
      "Name: Months_on_book, dtype: int64\n",
      "Total_Relationship_Count\n",
      "3    1617\n",
      "5    1363\n",
      "4    1350\n",
      "6    1276\n",
      "2     848\n",
      "1     627\n",
      "Name: Total_Relationship_Count, dtype: int64\n",
      "Months_Inactive_12_mon\n",
      "3    2724\n",
      "2    2320\n",
      "1    1525\n",
      "4     289\n",
      "5     129\n",
      "6      75\n",
      "0      19\n",
      "Name: Months_Inactive_12_mon, dtype: int64\n",
      "Contacts_Count_12_mon\n",
      "3    2354\n",
      "2    2271\n",
      "1    1029\n",
      "4     978\n",
      "0     288\n",
      "5     131\n",
      "6      30\n",
      "Name: Contacts_Count_12_mon, dtype: int64\n",
      "Credit_Limit\n",
      "1438.3     375\n",
      "34516.0    372\n",
      "15987.0     14\n",
      "9959.0      13\n",
      "3735.0      10\n",
      "          ... \n",
      "3114.0       1\n",
      "2903.0       1\n",
      "2562.0       1\n",
      "3257.0       1\n",
      "17978.0      1\n",
      "Name: Credit_Limit, Length: 4654, dtype: int64\n",
      "Total_Revolving_Bal\n",
      "0       1702\n",
      "2517     361\n",
      "989        9\n",
      "1300       9\n",
      "1687       9\n",
      "        ... \n",
      "2315       1\n",
      "1872       1\n",
      "2311       1\n",
      "1287       1\n",
      "1958       1\n",
      "Name: Total_Revolving_Bal, Length: 1821, dtype: int64\n",
      "Avg_Open_To_Buy\n",
      "1438.3     234\n",
      "34516.0     74\n",
      "31999.0     14\n",
      "787.0        6\n",
      "664.0        6\n",
      "          ... \n",
      "8818.0       1\n",
      "214.0        1\n",
      "178.0        1\n",
      "1413.0       1\n",
      "304.0        1\n",
      "Name: Avg_Open_To_Buy, Length: 5144, dtype: int64\n",
      "Total_Amt_Chng_Q4_Q1\n",
      "0.791    28\n",
      "0.750    25\n",
      "0.690    25\n",
      "0.742    25\n",
      "0.744    25\n",
      "         ..\n",
      "1.314     1\n",
      "0.383     1\n",
      "0.153     1\n",
      "0.299     1\n",
      "1.750     1\n",
      "Name: Total_Amt_Chng_Q4_Q1, Length: 1067, dtype: int64\n",
      "Total_Trans_Amt\n",
      "4518    7\n",
      "3906    7\n",
      "4833    7\n",
      "4498    7\n",
      "4751    7\n",
      "       ..\n",
      "2350    1\n",
      "7594    1\n",
      "1449    1\n",
      "2354    1\n",
      "2047    1\n",
      "Name: Total_Trans_Amt, Length: 4194, dtype: int64\n",
      "Total_Trans_Ct\n",
      "75     144\n",
      "69     142\n",
      "82     141\n",
      "77     140\n",
      "74     138\n",
      "      ... \n",
      "10       3\n",
      "12       3\n",
      "11       2\n",
      "132      1\n",
      "134      1\n",
      "Name: Total_Trans_Ct, Length: 124, dtype: int64\n",
      "Total_Ct_Chng_Q4_Q1\n",
      "1.000    123\n",
      "0.667    123\n",
      "0.500    119\n",
      "0.750    108\n",
      "0.600     87\n",
      "        ... \n",
      "0.726      1\n",
      "1.160      1\n",
      "0.431      1\n",
      "1.615      1\n",
      "1.636      1\n",
      "Name: Total_Ct_Chng_Q4_Q1, Length: 771, dtype: int64\n",
      "Avg_Utilization_Ratio\n",
      "0.000    1702\n",
      "0.073      25\n",
      "0.048      24\n",
      "0.061      22\n",
      "0.060      21\n",
      "         ... \n",
      "0.263       1\n",
      "0.944       1\n",
      "0.987       1\n",
      "0.914       1\n",
      "0.938       1\n",
      "Name: Avg_Utilization_Ratio, Length: 946, dtype: int64\n"
     ]
    }
   ],
   "source": [
    "for coL in df1.columns:\n",
    "    print(coL)\n",
    "    print(df1[coL].value_counts())"
   ]
  },
  {
   "cell_type": "code",
   "execution_count": 12,
   "metadata": {},
   "outputs": [
    {
     "data": {
      "text/plain": [
       "Attrition_Flag               object\n",
       "Customer_Age                  int64\n",
       "Gender                       object\n",
       "Dependent_count               int64\n",
       "Education_Level              object\n",
       "Marital_Status               object\n",
       "Income_Category              object\n",
       "Card_Category                object\n",
       "Months_on_book                int64\n",
       "Total_Relationship_Count      int64\n",
       "Months_Inactive_12_mon        int64\n",
       "Contacts_Count_12_mon         int64\n",
       "Credit_Limit                float64\n",
       "Total_Revolving_Bal           int64\n",
       "Avg_Open_To_Buy             float64\n",
       "Total_Amt_Chng_Q4_Q1        float64\n",
       "Total_Trans_Amt               int64\n",
       "Total_Trans_Ct                int64\n",
       "Total_Ct_Chng_Q4_Q1         float64\n",
       "Avg_Utilization_Ratio       float64\n",
       "dtype: object"
      ]
     },
     "execution_count": 12,
     "metadata": {},
     "output_type": "execute_result"
    }
   ],
   "source": [
    "df1.dtypes"
   ]
  },
  {
   "cell_type": "code",
   "execution_count": 13,
   "metadata": {},
   "outputs": [
    {
     "data": {
      "text/plain": [
       "(7081, 20)"
      ]
     },
     "execution_count": 13,
     "metadata": {},
     "output_type": "execute_result"
    }
   ],
   "source": [
    "df1.shape"
   ]
  },
  {
   "cell_type": "code",
   "execution_count": 14,
   "metadata": {},
   "outputs": [],
   "source": [
    "df1 = df1.reset_index(drop = True)"
   ]
  },
  {
   "cell_type": "code",
   "execution_count": 15,
   "metadata": {},
   "outputs": [
    {
     "data": {
      "text/html": [
       "<div>\n",
       "<style scoped>\n",
       "    .dataframe tbody tr th:only-of-type {\n",
       "        vertical-align: middle;\n",
       "    }\n",
       "\n",
       "    .dataframe tbody tr th {\n",
       "        vertical-align: top;\n",
       "    }\n",
       "\n",
       "    .dataframe thead th {\n",
       "        text-align: right;\n",
       "    }\n",
       "</style>\n",
       "<table border=\"1\" class=\"dataframe\">\n",
       "  <thead>\n",
       "    <tr style=\"text-align: right;\">\n",
       "      <th></th>\n",
       "      <th>Attrition_Flag</th>\n",
       "      <th>Customer_Age</th>\n",
       "      <th>Gender</th>\n",
       "      <th>Dependent_count</th>\n",
       "      <th>Education_Level</th>\n",
       "      <th>Marital_Status</th>\n",
       "      <th>Income_Category</th>\n",
       "      <th>Card_Category</th>\n",
       "      <th>Months_on_book</th>\n",
       "      <th>Total_Relationship_Count</th>\n",
       "      <th>Months_Inactive_12_mon</th>\n",
       "      <th>Contacts_Count_12_mon</th>\n",
       "      <th>Credit_Limit</th>\n",
       "      <th>Total_Revolving_Bal</th>\n",
       "      <th>Avg_Open_To_Buy</th>\n",
       "      <th>Total_Amt_Chng_Q4_Q1</th>\n",
       "      <th>Total_Trans_Amt</th>\n",
       "      <th>Total_Trans_Ct</th>\n",
       "      <th>Total_Ct_Chng_Q4_Q1</th>\n",
       "      <th>Avg_Utilization_Ratio</th>\n",
       "    </tr>\n",
       "  </thead>\n",
       "  <tbody>\n",
       "    <tr>\n",
       "      <th>0</th>\n",
       "      <td>Existing Customer</td>\n",
       "      <td>45</td>\n",
       "      <td>M</td>\n",
       "      <td>3</td>\n",
       "      <td>High School</td>\n",
       "      <td>Married</td>\n",
       "      <td>$60K - $80K</td>\n",
       "      <td>Blue</td>\n",
       "      <td>39</td>\n",
       "      <td>5</td>\n",
       "      <td>1</td>\n",
       "      <td>3</td>\n",
       "      <td>12691.0</td>\n",
       "      <td>777</td>\n",
       "      <td>11914.0</td>\n",
       "      <td>1.335</td>\n",
       "      <td>1144</td>\n",
       "      <td>42</td>\n",
       "      <td>1.625</td>\n",
       "      <td>0.061</td>\n",
       "    </tr>\n",
       "    <tr>\n",
       "      <th>1</th>\n",
       "      <td>Existing Customer</td>\n",
       "      <td>49</td>\n",
       "      <td>F</td>\n",
       "      <td>5</td>\n",
       "      <td>Graduate</td>\n",
       "      <td>Single</td>\n",
       "      <td>Less than $40K</td>\n",
       "      <td>Blue</td>\n",
       "      <td>44</td>\n",
       "      <td>6</td>\n",
       "      <td>1</td>\n",
       "      <td>2</td>\n",
       "      <td>8256.0</td>\n",
       "      <td>864</td>\n",
       "      <td>7392.0</td>\n",
       "      <td>1.541</td>\n",
       "      <td>1291</td>\n",
       "      <td>33</td>\n",
       "      <td>3.714</td>\n",
       "      <td>0.105</td>\n",
       "    </tr>\n",
       "    <tr>\n",
       "      <th>2</th>\n",
       "      <td>Existing Customer</td>\n",
       "      <td>51</td>\n",
       "      <td>M</td>\n",
       "      <td>3</td>\n",
       "      <td>Graduate</td>\n",
       "      <td>Married</td>\n",
       "      <td>$80K - $120K</td>\n",
       "      <td>Blue</td>\n",
       "      <td>36</td>\n",
       "      <td>4</td>\n",
       "      <td>1</td>\n",
       "      <td>0</td>\n",
       "      <td>3418.0</td>\n",
       "      <td>0</td>\n",
       "      <td>3418.0</td>\n",
       "      <td>2.594</td>\n",
       "      <td>1887</td>\n",
       "      <td>20</td>\n",
       "      <td>2.333</td>\n",
       "      <td>0.000</td>\n",
       "    </tr>\n",
       "    <tr>\n",
       "      <th>3</th>\n",
       "      <td>Existing Customer</td>\n",
       "      <td>40</td>\n",
       "      <td>M</td>\n",
       "      <td>3</td>\n",
       "      <td>Uneducated</td>\n",
       "      <td>Married</td>\n",
       "      <td>$60K - $80K</td>\n",
       "      <td>Blue</td>\n",
       "      <td>21</td>\n",
       "      <td>5</td>\n",
       "      <td>1</td>\n",
       "      <td>0</td>\n",
       "      <td>4716.0</td>\n",
       "      <td>0</td>\n",
       "      <td>4716.0</td>\n",
       "      <td>2.175</td>\n",
       "      <td>816</td>\n",
       "      <td>28</td>\n",
       "      <td>2.500</td>\n",
       "      <td>0.000</td>\n",
       "    </tr>\n",
       "    <tr>\n",
       "      <th>4</th>\n",
       "      <td>Existing Customer</td>\n",
       "      <td>44</td>\n",
       "      <td>M</td>\n",
       "      <td>2</td>\n",
       "      <td>Graduate</td>\n",
       "      <td>Married</td>\n",
       "      <td>$40K - $60K</td>\n",
       "      <td>Blue</td>\n",
       "      <td>36</td>\n",
       "      <td>3</td>\n",
       "      <td>1</td>\n",
       "      <td>2</td>\n",
       "      <td>4010.0</td>\n",
       "      <td>1247</td>\n",
       "      <td>2763.0</td>\n",
       "      <td>1.376</td>\n",
       "      <td>1088</td>\n",
       "      <td>24</td>\n",
       "      <td>0.846</td>\n",
       "      <td>0.311</td>\n",
       "    </tr>\n",
       "  </tbody>\n",
       "</table>\n",
       "</div>"
      ],
      "text/plain": [
       "      Attrition_Flag  Customer_Age Gender  Dependent_count Education_Level  \\\n",
       "0  Existing Customer            45      M                3     High School   \n",
       "1  Existing Customer            49      F                5        Graduate   \n",
       "2  Existing Customer            51      M                3        Graduate   \n",
       "3  Existing Customer            40      M                3      Uneducated   \n",
       "4  Existing Customer            44      M                2        Graduate   \n",
       "\n",
       "  Marital_Status Income_Category Card_Category  Months_on_book  \\\n",
       "0        Married     $60K - $80K          Blue              39   \n",
       "1         Single  Less than $40K          Blue              44   \n",
       "2        Married    $80K - $120K          Blue              36   \n",
       "3        Married     $60K - $80K          Blue              21   \n",
       "4        Married     $40K - $60K          Blue              36   \n",
       "\n",
       "   Total_Relationship_Count  Months_Inactive_12_mon  Contacts_Count_12_mon  \\\n",
       "0                         5                       1                      3   \n",
       "1                         6                       1                      2   \n",
       "2                         4                       1                      0   \n",
       "3                         5                       1                      0   \n",
       "4                         3                       1                      2   \n",
       "\n",
       "   Credit_Limit  Total_Revolving_Bal  Avg_Open_To_Buy  Total_Amt_Chng_Q4_Q1  \\\n",
       "0       12691.0                  777          11914.0                 1.335   \n",
       "1        8256.0                  864           7392.0                 1.541   \n",
       "2        3418.0                    0           3418.0                 2.594   \n",
       "3        4716.0                    0           4716.0                 2.175   \n",
       "4        4010.0                 1247           2763.0                 1.376   \n",
       "\n",
       "   Total_Trans_Amt  Total_Trans_Ct  Total_Ct_Chng_Q4_Q1  Avg_Utilization_Ratio  \n",
       "0             1144              42                1.625                  0.061  \n",
       "1             1291              33                3.714                  0.105  \n",
       "2             1887              20                2.333                  0.000  \n",
       "3              816              28                2.500                  0.000  \n",
       "4             1088              24                0.846                  0.311  "
      ]
     },
     "execution_count": 15,
     "metadata": {},
     "output_type": "execute_result"
    }
   ],
   "source": [
    "df1.head()"
   ]
  },
  {
   "cell_type": "markdown",
   "metadata": {},
   "source": [
    "## Checking for Outliers From Box Plots and then REMOVING OUTLIER DATA with |z| value > 3.0\n"
   ]
  },
  {
   "cell_type": "code",
   "execution_count": 16,
   "metadata": {},
   "outputs": [],
   "source": [
    "outLierCol = ['Customer_Age','Dependent_count','Months_on_book','Total_Relationship_Count','Months_Inactive_12_mon', \\\n",
    "              'Contacts_Count_12_mon','Credit_Limit','Total_Revolving_Bal','Avg_Open_To_Buy','Total_Amt_Chng_Q4_Q1', \\\n",
    "              'Total_Trans_Amt','Total_Trans_Ct','Total_Ct_Chng_Q4_Q1','Avg_Utilization_Ratio']"
   ]
  },
  {
   "cell_type": "code",
   "execution_count": 17,
   "metadata": {},
   "outputs": [],
   "source": [
    "df1 = removeOutliers(df1,outLierCol)"
   ]
  },
  {
   "cell_type": "code",
   "execution_count": 18,
   "metadata": {},
   "outputs": [
    {
     "data": {
      "text/plain": [
       "(6559, 20)"
      ]
     },
     "execution_count": 18,
     "metadata": {},
     "output_type": "execute_result"
    }
   ],
   "source": [
    "df1.shape"
   ]
  },
  {
   "cell_type": "code",
   "execution_count": 19,
   "metadata": {},
   "outputs": [],
   "source": [
    "df1 = df1.reset_index(drop = True)"
   ]
  },
  {
   "cell_type": "code",
   "execution_count": 20,
   "metadata": {},
   "outputs": [
    {
     "data": {
      "text/html": [
       "<div>\n",
       "<style scoped>\n",
       "    .dataframe tbody tr th:only-of-type {\n",
       "        vertical-align: middle;\n",
       "    }\n",
       "\n",
       "    .dataframe tbody tr th {\n",
       "        vertical-align: top;\n",
       "    }\n",
       "\n",
       "    .dataframe thead th {\n",
       "        text-align: right;\n",
       "    }\n",
       "</style>\n",
       "<table border=\"1\" class=\"dataframe\">\n",
       "  <thead>\n",
       "    <tr style=\"text-align: right;\">\n",
       "      <th></th>\n",
       "      <th>Attrition_Flag</th>\n",
       "      <th>Customer_Age</th>\n",
       "      <th>Gender</th>\n",
       "      <th>Dependent_count</th>\n",
       "      <th>Education_Level</th>\n",
       "      <th>Marital_Status</th>\n",
       "      <th>Income_Category</th>\n",
       "      <th>Card_Category</th>\n",
       "      <th>Months_on_book</th>\n",
       "      <th>Total_Relationship_Count</th>\n",
       "      <th>Months_Inactive_12_mon</th>\n",
       "      <th>Contacts_Count_12_mon</th>\n",
       "      <th>Credit_Limit</th>\n",
       "      <th>Total_Revolving_Bal</th>\n",
       "      <th>Avg_Open_To_Buy</th>\n",
       "      <th>Total_Amt_Chng_Q4_Q1</th>\n",
       "      <th>Total_Trans_Amt</th>\n",
       "      <th>Total_Trans_Ct</th>\n",
       "      <th>Total_Ct_Chng_Q4_Q1</th>\n",
       "      <th>Avg_Utilization_Ratio</th>\n",
       "    </tr>\n",
       "  </thead>\n",
       "  <tbody>\n",
       "    <tr>\n",
       "      <th>0</th>\n",
       "      <td>Existing Customer</td>\n",
       "      <td>44</td>\n",
       "      <td>M</td>\n",
       "      <td>2</td>\n",
       "      <td>Graduate</td>\n",
       "      <td>Married</td>\n",
       "      <td>$40K - $60K</td>\n",
       "      <td>Blue</td>\n",
       "      <td>36</td>\n",
       "      <td>3</td>\n",
       "      <td>1</td>\n",
       "      <td>2</td>\n",
       "      <td>4010.0</td>\n",
       "      <td>1247</td>\n",
       "      <td>2763.0</td>\n",
       "      <td>1.376</td>\n",
       "      <td>1088</td>\n",
       "      <td>24</td>\n",
       "      <td>0.846</td>\n",
       "      <td>0.311</td>\n",
       "    </tr>\n",
       "    <tr>\n",
       "      <th>1</th>\n",
       "      <td>Existing Customer</td>\n",
       "      <td>57</td>\n",
       "      <td>F</td>\n",
       "      <td>2</td>\n",
       "      <td>Graduate</td>\n",
       "      <td>Married</td>\n",
       "      <td>Less than $40K</td>\n",
       "      <td>Blue</td>\n",
       "      <td>48</td>\n",
       "      <td>5</td>\n",
       "      <td>2</td>\n",
       "      <td>2</td>\n",
       "      <td>2436.0</td>\n",
       "      <td>680</td>\n",
       "      <td>1756.0</td>\n",
       "      <td>1.190</td>\n",
       "      <td>1570</td>\n",
       "      <td>29</td>\n",
       "      <td>0.611</td>\n",
       "      <td>0.279</td>\n",
       "    </tr>\n",
       "    <tr>\n",
       "      <th>2</th>\n",
       "      <td>Existing Customer</td>\n",
       "      <td>47</td>\n",
       "      <td>M</td>\n",
       "      <td>1</td>\n",
       "      <td>Doctorate</td>\n",
       "      <td>Divorced</td>\n",
       "      <td>$60K - $80K</td>\n",
       "      <td>Blue</td>\n",
       "      <td>42</td>\n",
       "      <td>5</td>\n",
       "      <td>2</td>\n",
       "      <td>0</td>\n",
       "      <td>20979.0</td>\n",
       "      <td>1800</td>\n",
       "      <td>19179.0</td>\n",
       "      <td>0.906</td>\n",
       "      <td>1178</td>\n",
       "      <td>27</td>\n",
       "      <td>0.929</td>\n",
       "      <td>0.086</td>\n",
       "    </tr>\n",
       "    <tr>\n",
       "      <th>3</th>\n",
       "      <td>Attrited Customer</td>\n",
       "      <td>62</td>\n",
       "      <td>F</td>\n",
       "      <td>0</td>\n",
       "      <td>Graduate</td>\n",
       "      <td>Married</td>\n",
       "      <td>Less than $40K</td>\n",
       "      <td>Blue</td>\n",
       "      <td>49</td>\n",
       "      <td>2</td>\n",
       "      <td>3</td>\n",
       "      <td>3</td>\n",
       "      <td>1438.3</td>\n",
       "      <td>0</td>\n",
       "      <td>1438.3</td>\n",
       "      <td>1.047</td>\n",
       "      <td>692</td>\n",
       "      <td>16</td>\n",
       "      <td>0.600</td>\n",
       "      <td>0.000</td>\n",
       "    </tr>\n",
       "    <tr>\n",
       "      <th>4</th>\n",
       "      <td>Existing Customer</td>\n",
       "      <td>41</td>\n",
       "      <td>F</td>\n",
       "      <td>3</td>\n",
       "      <td>Graduate</td>\n",
       "      <td>Single</td>\n",
       "      <td>Less than $40K</td>\n",
       "      <td>Blue</td>\n",
       "      <td>28</td>\n",
       "      <td>6</td>\n",
       "      <td>1</td>\n",
       "      <td>2</td>\n",
       "      <td>7768.0</td>\n",
       "      <td>1669</td>\n",
       "      <td>6099.0</td>\n",
       "      <td>0.797</td>\n",
       "      <td>1051</td>\n",
       "      <td>22</td>\n",
       "      <td>0.833</td>\n",
       "      <td>0.215</td>\n",
       "    </tr>\n",
       "  </tbody>\n",
       "</table>\n",
       "</div>"
      ],
      "text/plain": [
       "      Attrition_Flag  Customer_Age Gender  Dependent_count Education_Level  \\\n",
       "0  Existing Customer            44      M                2        Graduate   \n",
       "1  Existing Customer            57      F                2        Graduate   \n",
       "2  Existing Customer            47      M                1       Doctorate   \n",
       "3  Attrited Customer            62      F                0        Graduate   \n",
       "4  Existing Customer            41      F                3        Graduate   \n",
       "\n",
       "  Marital_Status Income_Category Card_Category  Months_on_book  \\\n",
       "0        Married     $40K - $60K          Blue              36   \n",
       "1        Married  Less than $40K          Blue              48   \n",
       "2       Divorced     $60K - $80K          Blue              42   \n",
       "3        Married  Less than $40K          Blue              49   \n",
       "4         Single  Less than $40K          Blue              28   \n",
       "\n",
       "   Total_Relationship_Count  Months_Inactive_12_mon  Contacts_Count_12_mon  \\\n",
       "0                         3                       1                      2   \n",
       "1                         5                       2                      2   \n",
       "2                         5                       2                      0   \n",
       "3                         2                       3                      3   \n",
       "4                         6                       1                      2   \n",
       "\n",
       "   Credit_Limit  Total_Revolving_Bal  Avg_Open_To_Buy  Total_Amt_Chng_Q4_Q1  \\\n",
       "0        4010.0                 1247           2763.0                 1.376   \n",
       "1        2436.0                  680           1756.0                 1.190   \n",
       "2       20979.0                 1800          19179.0                 0.906   \n",
       "3        1438.3                    0           1438.3                 1.047   \n",
       "4        7768.0                 1669           6099.0                 0.797   \n",
       "\n",
       "   Total_Trans_Amt  Total_Trans_Ct  Total_Ct_Chng_Q4_Q1  Avg_Utilization_Ratio  \n",
       "0             1088              24                0.846                  0.311  \n",
       "1             1570              29                0.611                  0.279  \n",
       "2             1178              27                0.929                  0.086  \n",
       "3              692              16                0.600                  0.000  \n",
       "4             1051              22                0.833                  0.215  "
      ]
     },
     "execution_count": 20,
     "metadata": {},
     "output_type": "execute_result"
    }
   ],
   "source": [
    "df1.head()"
   ]
  },
  {
   "cell_type": "code",
   "execution_count": 21,
   "metadata": {},
   "outputs": [],
   "source": [
    "zScorecoL = outLierCol"
   ]
  },
  {
   "cell_type": "code",
   "execution_count": 22,
   "metadata": {},
   "outputs": [],
   "source": [
    "df1 = zscoreData(df1,zScorecoL)"
   ]
  },
  {
   "cell_type": "code",
   "execution_count": 23,
   "metadata": {},
   "outputs": [
    {
     "data": {
      "text/html": [
       "<div>\n",
       "<style scoped>\n",
       "    .dataframe tbody tr th:only-of-type {\n",
       "        vertical-align: middle;\n",
       "    }\n",
       "\n",
       "    .dataframe tbody tr th {\n",
       "        vertical-align: top;\n",
       "    }\n",
       "\n",
       "    .dataframe thead th {\n",
       "        text-align: right;\n",
       "    }\n",
       "</style>\n",
       "<table border=\"1\" class=\"dataframe\">\n",
       "  <thead>\n",
       "    <tr style=\"text-align: right;\">\n",
       "      <th></th>\n",
       "      <th>Attrition_Flag</th>\n",
       "      <th>Customer_Age</th>\n",
       "      <th>Gender</th>\n",
       "      <th>Dependent_count</th>\n",
       "      <th>Education_Level</th>\n",
       "      <th>Marital_Status</th>\n",
       "      <th>Income_Category</th>\n",
       "      <th>Card_Category</th>\n",
       "      <th>Months_on_book</th>\n",
       "      <th>Total_Relationship_Count</th>\n",
       "      <th>Months_Inactive_12_mon</th>\n",
       "      <th>Contacts_Count_12_mon</th>\n",
       "      <th>Credit_Limit</th>\n",
       "      <th>Total_Revolving_Bal</th>\n",
       "      <th>Avg_Open_To_Buy</th>\n",
       "      <th>Total_Amt_Chng_Q4_Q1</th>\n",
       "      <th>Total_Trans_Amt</th>\n",
       "      <th>Total_Trans_Ct</th>\n",
       "      <th>Total_Ct_Chng_Q4_Q1</th>\n",
       "      <th>Avg_Utilization_Ratio</th>\n",
       "    </tr>\n",
       "  </thead>\n",
       "  <tbody>\n",
       "    <tr>\n",
       "      <th>0</th>\n",
       "      <td>Existing Customer</td>\n",
       "      <td>-0.295064</td>\n",
       "      <td>M</td>\n",
       "      <td>-0.267132</td>\n",
       "      <td>Graduate</td>\n",
       "      <td>Married</td>\n",
       "      <td>$40K - $60K</td>\n",
       "      <td>Blue</td>\n",
       "      <td>-0.001261</td>\n",
       "      <td>-0.553495</td>\n",
       "      <td>-1.410426</td>\n",
       "      <td>-0.409261</td>\n",
       "      <td>-0.476217</td>\n",
       "      <td>0.113286</td>\n",
       "      <td>-0.486135</td>\n",
       "      <td>3.426068</td>\n",
       "      <td>-1.051995</td>\n",
       "      <td>-1.785771</td>\n",
       "      <td>0.776303</td>\n",
       "      <td>0.093012</td>\n",
       "    </tr>\n",
       "    <tr>\n",
       "      <th>1</th>\n",
       "      <td>Existing Customer</td>\n",
       "      <td>1.330208</td>\n",
       "      <td>F</td>\n",
       "      <td>-0.267132</td>\n",
       "      <td>Graduate</td>\n",
       "      <td>Married</td>\n",
       "      <td>Less than $40K</td>\n",
       "      <td>Blue</td>\n",
       "      <td>1.503097</td>\n",
       "      <td>0.744689</td>\n",
       "      <td>-0.330082</td>\n",
       "      <td>-0.409261</td>\n",
       "      <td>-0.650738</td>\n",
       "      <td>-0.585062</td>\n",
       "      <td>-0.597724</td>\n",
       "      <td>2.418958</td>\n",
       "      <td>-0.881649</td>\n",
       "      <td>-1.560306</td>\n",
       "      <td>-0.422903</td>\n",
       "      <td>-0.020958</td>\n",
       "    </tr>\n",
       "    <tr>\n",
       "      <th>2</th>\n",
       "      <td>Existing Customer</td>\n",
       "      <td>0.079999</td>\n",
       "      <td>M</td>\n",
       "      <td>-1.041720</td>\n",
       "      <td>Doctorate</td>\n",
       "      <td>Divorced</td>\n",
       "      <td>$60K - $80K</td>\n",
       "      <td>Blue</td>\n",
       "      <td>0.750918</td>\n",
       "      <td>0.744689</td>\n",
       "      <td>-0.330082</td>\n",
       "      <td>-2.254802</td>\n",
       "      <td>1.405256</td>\n",
       "      <td>0.794392</td>\n",
       "      <td>1.332974</td>\n",
       "      <td>0.881219</td>\n",
       "      <td>-1.020188</td>\n",
       "      <td>-1.650492</td>\n",
       "      <td>1.199852</td>\n",
       "      <td>-0.708342</td>\n",
       "    </tr>\n",
       "    <tr>\n",
       "      <th>3</th>\n",
       "      <td>Attrited Customer</td>\n",
       "      <td>1.955313</td>\n",
       "      <td>F</td>\n",
       "      <td>-1.816308</td>\n",
       "      <td>Graduate</td>\n",
       "      <td>Married</td>\n",
       "      <td>Less than $40K</td>\n",
       "      <td>Blue</td>\n",
       "      <td>1.628460</td>\n",
       "      <td>-1.202586</td>\n",
       "      <td>0.750261</td>\n",
       "      <td>0.513510</td>\n",
       "      <td>-0.761360</td>\n",
       "      <td>-1.422588</td>\n",
       "      <td>-0.632929</td>\n",
       "      <td>1.644674</td>\n",
       "      <td>-1.191948</td>\n",
       "      <td>-2.146515</td>\n",
       "      <td>-0.479036</td>\n",
       "      <td>-1.014638</td>\n",
       "    </tr>\n",
       "    <tr>\n",
       "      <th>4</th>\n",
       "      <td>Existing Customer</td>\n",
       "      <td>-0.670127</td>\n",
       "      <td>F</td>\n",
       "      <td>0.507456</td>\n",
       "      <td>Graduate</td>\n",
       "      <td>Single</td>\n",
       "      <td>Less than $40K</td>\n",
       "      <td>Blue</td>\n",
       "      <td>-1.004167</td>\n",
       "      <td>1.393781</td>\n",
       "      <td>-1.410426</td>\n",
       "      <td>-0.409261</td>\n",
       "      <td>-0.059541</td>\n",
       "      <td>0.633045</td>\n",
       "      <td>-0.116462</td>\n",
       "      <td>0.291031</td>\n",
       "      <td>-1.065072</td>\n",
       "      <td>-1.875957</td>\n",
       "      <td>0.709964</td>\n",
       "      <td>-0.248899</td>\n",
       "    </tr>\n",
       "  </tbody>\n",
       "</table>\n",
       "</div>"
      ],
      "text/plain": [
       "      Attrition_Flag  Customer_Age Gender  Dependent_count Education_Level  \\\n",
       "0  Existing Customer     -0.295064      M        -0.267132        Graduate   \n",
       "1  Existing Customer      1.330208      F        -0.267132        Graduate   \n",
       "2  Existing Customer      0.079999      M        -1.041720       Doctorate   \n",
       "3  Attrited Customer      1.955313      F        -1.816308        Graduate   \n",
       "4  Existing Customer     -0.670127      F         0.507456        Graduate   \n",
       "\n",
       "  Marital_Status Income_Category Card_Category  Months_on_book  \\\n",
       "0        Married     $40K - $60K          Blue       -0.001261   \n",
       "1        Married  Less than $40K          Blue        1.503097   \n",
       "2       Divorced     $60K - $80K          Blue        0.750918   \n",
       "3        Married  Less than $40K          Blue        1.628460   \n",
       "4         Single  Less than $40K          Blue       -1.004167   \n",
       "\n",
       "   Total_Relationship_Count  Months_Inactive_12_mon  Contacts_Count_12_mon  \\\n",
       "0                 -0.553495               -1.410426              -0.409261   \n",
       "1                  0.744689               -0.330082              -0.409261   \n",
       "2                  0.744689               -0.330082              -2.254802   \n",
       "3                 -1.202586                0.750261               0.513510   \n",
       "4                  1.393781               -1.410426              -0.409261   \n",
       "\n",
       "   Credit_Limit  Total_Revolving_Bal  Avg_Open_To_Buy  Total_Amt_Chng_Q4_Q1  \\\n",
       "0     -0.476217             0.113286        -0.486135              3.426068   \n",
       "1     -0.650738            -0.585062        -0.597724              2.418958   \n",
       "2      1.405256             0.794392         1.332974              0.881219   \n",
       "3     -0.761360            -1.422588        -0.632929              1.644674   \n",
       "4     -0.059541             0.633045        -0.116462              0.291031   \n",
       "\n",
       "   Total_Trans_Amt  Total_Trans_Ct  Total_Ct_Chng_Q4_Q1  Avg_Utilization_Ratio  \n",
       "0        -1.051995       -1.785771             0.776303               0.093012  \n",
       "1        -0.881649       -1.560306            -0.422903              -0.020958  \n",
       "2        -1.020188       -1.650492             1.199852              -0.708342  \n",
       "3        -1.191948       -2.146515            -0.479036              -1.014638  \n",
       "4        -1.065072       -1.875957             0.709964              -0.248899  "
      ]
     },
     "execution_count": 23,
     "metadata": {},
     "output_type": "execute_result"
    }
   ],
   "source": [
    "df1.head()"
   ]
  },
  {
   "cell_type": "code",
   "execution_count": 24,
   "metadata": {},
   "outputs": [
    {
     "data": {
      "text/plain": [
       "(6559, 20)"
      ]
     },
     "execution_count": 24,
     "metadata": {},
     "output_type": "execute_result"
    }
   ],
   "source": [
    "df1.shape"
   ]
  },
  {
   "cell_type": "code",
   "execution_count": 25,
   "metadata": {},
   "outputs": [],
   "source": [
    "labelEncodingColumn = ['Attrition_Flag','Gender','Education_Level','Marital_Status','Income_Category','Card_Category']"
   ]
  },
  {
   "cell_type": "code",
   "execution_count": 26,
   "metadata": {},
   "outputs": [],
   "source": [
    "df1 = LabelEncoding(df1, labelEncodingColumn)"
   ]
  },
  {
   "cell_type": "code",
   "execution_count": 27,
   "metadata": {},
   "outputs": [
    {
     "data": {
      "text/html": [
       "<div>\n",
       "<style scoped>\n",
       "    .dataframe tbody tr th:only-of-type {\n",
       "        vertical-align: middle;\n",
       "    }\n",
       "\n",
       "    .dataframe tbody tr th {\n",
       "        vertical-align: top;\n",
       "    }\n",
       "\n",
       "    .dataframe thead th {\n",
       "        text-align: right;\n",
       "    }\n",
       "</style>\n",
       "<table border=\"1\" class=\"dataframe\">\n",
       "  <thead>\n",
       "    <tr style=\"text-align: right;\">\n",
       "      <th></th>\n",
       "      <th>Attrition_Flag</th>\n",
       "      <th>Customer_Age</th>\n",
       "      <th>Gender</th>\n",
       "      <th>Dependent_count</th>\n",
       "      <th>Education_Level</th>\n",
       "      <th>Marital_Status</th>\n",
       "      <th>Income_Category</th>\n",
       "      <th>Card_Category</th>\n",
       "      <th>Months_on_book</th>\n",
       "      <th>Total_Relationship_Count</th>\n",
       "      <th>Months_Inactive_12_mon</th>\n",
       "      <th>Contacts_Count_12_mon</th>\n",
       "      <th>Credit_Limit</th>\n",
       "      <th>Total_Revolving_Bal</th>\n",
       "      <th>Avg_Open_To_Buy</th>\n",
       "      <th>Total_Amt_Chng_Q4_Q1</th>\n",
       "      <th>Total_Trans_Amt</th>\n",
       "      <th>Total_Trans_Ct</th>\n",
       "      <th>Total_Ct_Chng_Q4_Q1</th>\n",
       "      <th>Avg_Utilization_Ratio</th>\n",
       "    </tr>\n",
       "  </thead>\n",
       "  <tbody>\n",
       "    <tr>\n",
       "      <th>0</th>\n",
       "      <td>1</td>\n",
       "      <td>-0.295064</td>\n",
       "      <td>1</td>\n",
       "      <td>-0.267132</td>\n",
       "      <td>2</td>\n",
       "      <td>1</td>\n",
       "      <td>1</td>\n",
       "      <td>0</td>\n",
       "      <td>-0.001261</td>\n",
       "      <td>-0.553495</td>\n",
       "      <td>-1.410426</td>\n",
       "      <td>-0.409261</td>\n",
       "      <td>-0.476217</td>\n",
       "      <td>0.113286</td>\n",
       "      <td>-0.486135</td>\n",
       "      <td>3.426068</td>\n",
       "      <td>-1.051995</td>\n",
       "      <td>-1.785771</td>\n",
       "      <td>0.776303</td>\n",
       "      <td>0.093012</td>\n",
       "    </tr>\n",
       "    <tr>\n",
       "      <th>1</th>\n",
       "      <td>1</td>\n",
       "      <td>1.330208</td>\n",
       "      <td>0</td>\n",
       "      <td>-0.267132</td>\n",
       "      <td>2</td>\n",
       "      <td>1</td>\n",
       "      <td>4</td>\n",
       "      <td>0</td>\n",
       "      <td>1.503097</td>\n",
       "      <td>0.744689</td>\n",
       "      <td>-0.330082</td>\n",
       "      <td>-0.409261</td>\n",
       "      <td>-0.650738</td>\n",
       "      <td>-0.585062</td>\n",
       "      <td>-0.597724</td>\n",
       "      <td>2.418958</td>\n",
       "      <td>-0.881649</td>\n",
       "      <td>-1.560306</td>\n",
       "      <td>-0.422903</td>\n",
       "      <td>-0.020958</td>\n",
       "    </tr>\n",
       "    <tr>\n",
       "      <th>2</th>\n",
       "      <td>1</td>\n",
       "      <td>0.079999</td>\n",
       "      <td>1</td>\n",
       "      <td>-1.041720</td>\n",
       "      <td>1</td>\n",
       "      <td>0</td>\n",
       "      <td>2</td>\n",
       "      <td>0</td>\n",
       "      <td>0.750918</td>\n",
       "      <td>0.744689</td>\n",
       "      <td>-0.330082</td>\n",
       "      <td>-2.254802</td>\n",
       "      <td>1.405256</td>\n",
       "      <td>0.794392</td>\n",
       "      <td>1.332974</td>\n",
       "      <td>0.881219</td>\n",
       "      <td>-1.020188</td>\n",
       "      <td>-1.650492</td>\n",
       "      <td>1.199852</td>\n",
       "      <td>-0.708342</td>\n",
       "    </tr>\n",
       "    <tr>\n",
       "      <th>3</th>\n",
       "      <td>0</td>\n",
       "      <td>1.955313</td>\n",
       "      <td>0</td>\n",
       "      <td>-1.816308</td>\n",
       "      <td>2</td>\n",
       "      <td>1</td>\n",
       "      <td>4</td>\n",
       "      <td>0</td>\n",
       "      <td>1.628460</td>\n",
       "      <td>-1.202586</td>\n",
       "      <td>0.750261</td>\n",
       "      <td>0.513510</td>\n",
       "      <td>-0.761360</td>\n",
       "      <td>-1.422588</td>\n",
       "      <td>-0.632929</td>\n",
       "      <td>1.644674</td>\n",
       "      <td>-1.191948</td>\n",
       "      <td>-2.146515</td>\n",
       "      <td>-0.479036</td>\n",
       "      <td>-1.014638</td>\n",
       "    </tr>\n",
       "    <tr>\n",
       "      <th>4</th>\n",
       "      <td>1</td>\n",
       "      <td>-0.670127</td>\n",
       "      <td>0</td>\n",
       "      <td>0.507456</td>\n",
       "      <td>2</td>\n",
       "      <td>2</td>\n",
       "      <td>4</td>\n",
       "      <td>0</td>\n",
       "      <td>-1.004167</td>\n",
       "      <td>1.393781</td>\n",
       "      <td>-1.410426</td>\n",
       "      <td>-0.409261</td>\n",
       "      <td>-0.059541</td>\n",
       "      <td>0.633045</td>\n",
       "      <td>-0.116462</td>\n",
       "      <td>0.291031</td>\n",
       "      <td>-1.065072</td>\n",
       "      <td>-1.875957</td>\n",
       "      <td>0.709964</td>\n",
       "      <td>-0.248899</td>\n",
       "    </tr>\n",
       "  </tbody>\n",
       "</table>\n",
       "</div>"
      ],
      "text/plain": [
       "   Attrition_Flag  Customer_Age  Gender  Dependent_count  Education_Level  \\\n",
       "0               1     -0.295064       1        -0.267132                2   \n",
       "1               1      1.330208       0        -0.267132                2   \n",
       "2               1      0.079999       1        -1.041720                1   \n",
       "3               0      1.955313       0        -1.816308                2   \n",
       "4               1     -0.670127       0         0.507456                2   \n",
       "\n",
       "   Marital_Status  Income_Category  Card_Category  Months_on_book  \\\n",
       "0               1                1              0       -0.001261   \n",
       "1               1                4              0        1.503097   \n",
       "2               0                2              0        0.750918   \n",
       "3               1                4              0        1.628460   \n",
       "4               2                4              0       -1.004167   \n",
       "\n",
       "   Total_Relationship_Count  Months_Inactive_12_mon  Contacts_Count_12_mon  \\\n",
       "0                 -0.553495               -1.410426              -0.409261   \n",
       "1                  0.744689               -0.330082              -0.409261   \n",
       "2                  0.744689               -0.330082              -2.254802   \n",
       "3                 -1.202586                0.750261               0.513510   \n",
       "4                  1.393781               -1.410426              -0.409261   \n",
       "\n",
       "   Credit_Limit  Total_Revolving_Bal  Avg_Open_To_Buy  Total_Amt_Chng_Q4_Q1  \\\n",
       "0     -0.476217             0.113286        -0.486135              3.426068   \n",
       "1     -0.650738            -0.585062        -0.597724              2.418958   \n",
       "2      1.405256             0.794392         1.332974              0.881219   \n",
       "3     -0.761360            -1.422588        -0.632929              1.644674   \n",
       "4     -0.059541             0.633045        -0.116462              0.291031   \n",
       "\n",
       "   Total_Trans_Amt  Total_Trans_Ct  Total_Ct_Chng_Q4_Q1  Avg_Utilization_Ratio  \n",
       "0        -1.051995       -1.785771             0.776303               0.093012  \n",
       "1        -0.881649       -1.560306            -0.422903              -0.020958  \n",
       "2        -1.020188       -1.650492             1.199852              -0.708342  \n",
       "3        -1.191948       -2.146515            -0.479036              -1.014638  \n",
       "4        -1.065072       -1.875957             0.709964              -0.248899  "
      ]
     },
     "execution_count": 27,
     "metadata": {},
     "output_type": "execute_result"
    }
   ],
   "source": [
    "df1.head()\n"
   ]
  },
  {
   "cell_type": "code",
   "execution_count": 28,
   "metadata": {},
   "outputs": [],
   "source": [
    "oneHotEncodingColumn = ['Gender']"
   ]
  },
  {
   "cell_type": "code",
   "execution_count": 29,
   "metadata": {},
   "outputs": [],
   "source": [
    "df1 = oneHotEncoding(df1, oneHotEncodingColumn)"
   ]
  },
  {
   "cell_type": "code",
   "execution_count": 30,
   "metadata": {},
   "outputs": [
    {
     "data": {
      "text/html": [
       "<div>\n",
       "<style scoped>\n",
       "    .dataframe tbody tr th:only-of-type {\n",
       "        vertical-align: middle;\n",
       "    }\n",
       "\n",
       "    .dataframe tbody tr th {\n",
       "        vertical-align: top;\n",
       "    }\n",
       "\n",
       "    .dataframe thead th {\n",
       "        text-align: right;\n",
       "    }\n",
       "</style>\n",
       "<table border=\"1\" class=\"dataframe\">\n",
       "  <thead>\n",
       "    <tr style=\"text-align: right;\">\n",
       "      <th></th>\n",
       "      <th>Attrition_Flag</th>\n",
       "      <th>Customer_Age</th>\n",
       "      <th>Dependent_count</th>\n",
       "      <th>Education_Level</th>\n",
       "      <th>Marital_Status</th>\n",
       "      <th>Income_Category</th>\n",
       "      <th>Card_Category</th>\n",
       "      <th>Months_on_book</th>\n",
       "      <th>Total_Relationship_Count</th>\n",
       "      <th>Months_Inactive_12_mon</th>\n",
       "      <th>...</th>\n",
       "      <th>Credit_Limit</th>\n",
       "      <th>Total_Revolving_Bal</th>\n",
       "      <th>Avg_Open_To_Buy</th>\n",
       "      <th>Total_Amt_Chng_Q4_Q1</th>\n",
       "      <th>Total_Trans_Amt</th>\n",
       "      <th>Total_Trans_Ct</th>\n",
       "      <th>Total_Ct_Chng_Q4_Q1</th>\n",
       "      <th>Avg_Utilization_Ratio</th>\n",
       "      <th>Gender 0</th>\n",
       "      <th>Gender 1</th>\n",
       "    </tr>\n",
       "  </thead>\n",
       "  <tbody>\n",
       "    <tr>\n",
       "      <th>0</th>\n",
       "      <td>1</td>\n",
       "      <td>-0.295064</td>\n",
       "      <td>-0.267132</td>\n",
       "      <td>2</td>\n",
       "      <td>1</td>\n",
       "      <td>1</td>\n",
       "      <td>0</td>\n",
       "      <td>-0.001261</td>\n",
       "      <td>-0.553495</td>\n",
       "      <td>-1.410426</td>\n",
       "      <td>...</td>\n",
       "      <td>-0.476217</td>\n",
       "      <td>0.113286</td>\n",
       "      <td>-0.486135</td>\n",
       "      <td>3.426068</td>\n",
       "      <td>-1.051995</td>\n",
       "      <td>-1.785771</td>\n",
       "      <td>0.776303</td>\n",
       "      <td>0.093012</td>\n",
       "      <td>0</td>\n",
       "      <td>1</td>\n",
       "    </tr>\n",
       "    <tr>\n",
       "      <th>1</th>\n",
       "      <td>1</td>\n",
       "      <td>1.330208</td>\n",
       "      <td>-0.267132</td>\n",
       "      <td>2</td>\n",
       "      <td>1</td>\n",
       "      <td>4</td>\n",
       "      <td>0</td>\n",
       "      <td>1.503097</td>\n",
       "      <td>0.744689</td>\n",
       "      <td>-0.330082</td>\n",
       "      <td>...</td>\n",
       "      <td>-0.650738</td>\n",
       "      <td>-0.585062</td>\n",
       "      <td>-0.597724</td>\n",
       "      <td>2.418958</td>\n",
       "      <td>-0.881649</td>\n",
       "      <td>-1.560306</td>\n",
       "      <td>-0.422903</td>\n",
       "      <td>-0.020958</td>\n",
       "      <td>1</td>\n",
       "      <td>0</td>\n",
       "    </tr>\n",
       "    <tr>\n",
       "      <th>2</th>\n",
       "      <td>1</td>\n",
       "      <td>0.079999</td>\n",
       "      <td>-1.041720</td>\n",
       "      <td>1</td>\n",
       "      <td>0</td>\n",
       "      <td>2</td>\n",
       "      <td>0</td>\n",
       "      <td>0.750918</td>\n",
       "      <td>0.744689</td>\n",
       "      <td>-0.330082</td>\n",
       "      <td>...</td>\n",
       "      <td>1.405256</td>\n",
       "      <td>0.794392</td>\n",
       "      <td>1.332974</td>\n",
       "      <td>0.881219</td>\n",
       "      <td>-1.020188</td>\n",
       "      <td>-1.650492</td>\n",
       "      <td>1.199852</td>\n",
       "      <td>-0.708342</td>\n",
       "      <td>0</td>\n",
       "      <td>1</td>\n",
       "    </tr>\n",
       "    <tr>\n",
       "      <th>3</th>\n",
       "      <td>0</td>\n",
       "      <td>1.955313</td>\n",
       "      <td>-1.816308</td>\n",
       "      <td>2</td>\n",
       "      <td>1</td>\n",
       "      <td>4</td>\n",
       "      <td>0</td>\n",
       "      <td>1.628460</td>\n",
       "      <td>-1.202586</td>\n",
       "      <td>0.750261</td>\n",
       "      <td>...</td>\n",
       "      <td>-0.761360</td>\n",
       "      <td>-1.422588</td>\n",
       "      <td>-0.632929</td>\n",
       "      <td>1.644674</td>\n",
       "      <td>-1.191948</td>\n",
       "      <td>-2.146515</td>\n",
       "      <td>-0.479036</td>\n",
       "      <td>-1.014638</td>\n",
       "      <td>1</td>\n",
       "      <td>0</td>\n",
       "    </tr>\n",
       "    <tr>\n",
       "      <th>4</th>\n",
       "      <td>1</td>\n",
       "      <td>-0.670127</td>\n",
       "      <td>0.507456</td>\n",
       "      <td>2</td>\n",
       "      <td>2</td>\n",
       "      <td>4</td>\n",
       "      <td>0</td>\n",
       "      <td>-1.004167</td>\n",
       "      <td>1.393781</td>\n",
       "      <td>-1.410426</td>\n",
       "      <td>...</td>\n",
       "      <td>-0.059541</td>\n",
       "      <td>0.633045</td>\n",
       "      <td>-0.116462</td>\n",
       "      <td>0.291031</td>\n",
       "      <td>-1.065072</td>\n",
       "      <td>-1.875957</td>\n",
       "      <td>0.709964</td>\n",
       "      <td>-0.248899</td>\n",
       "      <td>1</td>\n",
       "      <td>0</td>\n",
       "    </tr>\n",
       "  </tbody>\n",
       "</table>\n",
       "<p>5 rows × 21 columns</p>\n",
       "</div>"
      ],
      "text/plain": [
       "   Attrition_Flag  Customer_Age  Dependent_count  Education_Level  \\\n",
       "0               1     -0.295064        -0.267132                2   \n",
       "1               1      1.330208        -0.267132                2   \n",
       "2               1      0.079999        -1.041720                1   \n",
       "3               0      1.955313        -1.816308                2   \n",
       "4               1     -0.670127         0.507456                2   \n",
       "\n",
       "   Marital_Status  Income_Category  Card_Category  Months_on_book  \\\n",
       "0               1                1              0       -0.001261   \n",
       "1               1                4              0        1.503097   \n",
       "2               0                2              0        0.750918   \n",
       "3               1                4              0        1.628460   \n",
       "4               2                4              0       -1.004167   \n",
       "\n",
       "   Total_Relationship_Count  Months_Inactive_12_mon  ...  Credit_Limit  \\\n",
       "0                 -0.553495               -1.410426  ...     -0.476217   \n",
       "1                  0.744689               -0.330082  ...     -0.650738   \n",
       "2                  0.744689               -0.330082  ...      1.405256   \n",
       "3                 -1.202586                0.750261  ...     -0.761360   \n",
       "4                  1.393781               -1.410426  ...     -0.059541   \n",
       "\n",
       "   Total_Revolving_Bal  Avg_Open_To_Buy  Total_Amt_Chng_Q4_Q1  \\\n",
       "0             0.113286        -0.486135              3.426068   \n",
       "1            -0.585062        -0.597724              2.418958   \n",
       "2             0.794392         1.332974              0.881219   \n",
       "3            -1.422588        -0.632929              1.644674   \n",
       "4             0.633045        -0.116462              0.291031   \n",
       "\n",
       "   Total_Trans_Amt  Total_Trans_Ct  Total_Ct_Chng_Q4_Q1  \\\n",
       "0        -1.051995       -1.785771             0.776303   \n",
       "1        -0.881649       -1.560306            -0.422903   \n",
       "2        -1.020188       -1.650492             1.199852   \n",
       "3        -1.191948       -2.146515            -0.479036   \n",
       "4        -1.065072       -1.875957             0.709964   \n",
       "\n",
       "   Avg_Utilization_Ratio  Gender 0  Gender 1  \n",
       "0               0.093012         0         1  \n",
       "1              -0.020958         1         0  \n",
       "2              -0.708342         0         1  \n",
       "3              -1.014638         1         0  \n",
       "4              -0.248899         1         0  \n",
       "\n",
       "[5 rows x 21 columns]"
      ]
     },
     "execution_count": 30,
     "metadata": {},
     "output_type": "execute_result"
    }
   ],
   "source": [
    "df1.head()\n"
   ]
  },
  {
   "cell_type": "code",
   "execution_count": 31,
   "metadata": {},
   "outputs": [
    {
     "name": "stdout",
     "output_type": "stream",
     "text": [
      "Feature1 =  Customer_Age Feature2 =  Months_on_book Correlation = 0.7912\n",
      "Feature1 =  Credit_Limit Feature2 =  Avg_Open_To_Buy Correlation = 0.9960\n",
      "Feature1 =  Total_Trans_Amt Feature2 =  Total_Trans_Ct Correlation = 0.7921\n"
     ]
    }
   ],
   "source": [
    "corRelation(df1)"
   ]
  },
  {
   "cell_type": "code",
   "execution_count": 31,
   "metadata": {},
   "outputs": [],
   "source": [
    "df1Labels = df1['Attrition_Flag']"
   ]
  },
  {
   "cell_type": "code",
   "execution_count": 32,
   "metadata": {},
   "outputs": [
    {
     "data": {
      "text/plain": [
       "0       1\n",
       "1       1\n",
       "2       1\n",
       "3       0\n",
       "4       1\n",
       "       ..\n",
       "6554    0\n",
       "6555    1\n",
       "6556    1\n",
       "6557    0\n",
       "6558    0\n",
       "Name: Attrition_Flag, Length: 6559, dtype: int64"
      ]
     },
     "execution_count": 32,
     "metadata": {},
     "output_type": "execute_result"
    }
   ],
   "source": [
    "df1Labels"
   ]
  },
  {
   "cell_type": "code",
   "execution_count": 33,
   "metadata": {},
   "outputs": [
    {
     "data": {
      "text/plain": [
       "(6559,)"
      ]
     },
     "execution_count": 33,
     "metadata": {},
     "output_type": "execute_result"
    }
   ],
   "source": [
    "df1Labels.shape"
   ]
  },
  {
   "cell_type": "code",
   "execution_count": 34,
   "metadata": {},
   "outputs": [],
   "source": [
    "df1Features = dropColumns(df1,['Attrition_Flag'])"
   ]
  },
  {
   "cell_type": "code",
   "execution_count": 35,
   "metadata": {},
   "outputs": [
    {
     "data": {
      "text/html": [
       "<div>\n",
       "<style scoped>\n",
       "    .dataframe tbody tr th:only-of-type {\n",
       "        vertical-align: middle;\n",
       "    }\n",
       "\n",
       "    .dataframe tbody tr th {\n",
       "        vertical-align: top;\n",
       "    }\n",
       "\n",
       "    .dataframe thead th {\n",
       "        text-align: right;\n",
       "    }\n",
       "</style>\n",
       "<table border=\"1\" class=\"dataframe\">\n",
       "  <thead>\n",
       "    <tr style=\"text-align: right;\">\n",
       "      <th></th>\n",
       "      <th>Customer_Age</th>\n",
       "      <th>Dependent_count</th>\n",
       "      <th>Education_Level</th>\n",
       "      <th>Marital_Status</th>\n",
       "      <th>Income_Category</th>\n",
       "      <th>Card_Category</th>\n",
       "      <th>Months_on_book</th>\n",
       "      <th>Total_Relationship_Count</th>\n",
       "      <th>Months_Inactive_12_mon</th>\n",
       "      <th>Contacts_Count_12_mon</th>\n",
       "      <th>Credit_Limit</th>\n",
       "      <th>Total_Revolving_Bal</th>\n",
       "      <th>Avg_Open_To_Buy</th>\n",
       "      <th>Total_Amt_Chng_Q4_Q1</th>\n",
       "      <th>Total_Trans_Amt</th>\n",
       "      <th>Total_Trans_Ct</th>\n",
       "      <th>Total_Ct_Chng_Q4_Q1</th>\n",
       "      <th>Avg_Utilization_Ratio</th>\n",
       "      <th>Gender 0</th>\n",
       "      <th>Gender 1</th>\n",
       "    </tr>\n",
       "  </thead>\n",
       "  <tbody>\n",
       "    <tr>\n",
       "      <th>0</th>\n",
       "      <td>-0.295064</td>\n",
       "      <td>-0.267132</td>\n",
       "      <td>2</td>\n",
       "      <td>1</td>\n",
       "      <td>1</td>\n",
       "      <td>0</td>\n",
       "      <td>-0.001261</td>\n",
       "      <td>-0.553495</td>\n",
       "      <td>-1.410426</td>\n",
       "      <td>-0.409261</td>\n",
       "      <td>-0.476217</td>\n",
       "      <td>0.113286</td>\n",
       "      <td>-0.486135</td>\n",
       "      <td>3.426068</td>\n",
       "      <td>-1.051995</td>\n",
       "      <td>-1.785771</td>\n",
       "      <td>0.776303</td>\n",
       "      <td>0.093012</td>\n",
       "      <td>0</td>\n",
       "      <td>1</td>\n",
       "    </tr>\n",
       "    <tr>\n",
       "      <th>1</th>\n",
       "      <td>1.330208</td>\n",
       "      <td>-0.267132</td>\n",
       "      <td>2</td>\n",
       "      <td>1</td>\n",
       "      <td>4</td>\n",
       "      <td>0</td>\n",
       "      <td>1.503097</td>\n",
       "      <td>0.744689</td>\n",
       "      <td>-0.330082</td>\n",
       "      <td>-0.409261</td>\n",
       "      <td>-0.650738</td>\n",
       "      <td>-0.585062</td>\n",
       "      <td>-0.597724</td>\n",
       "      <td>2.418958</td>\n",
       "      <td>-0.881649</td>\n",
       "      <td>-1.560306</td>\n",
       "      <td>-0.422903</td>\n",
       "      <td>-0.020958</td>\n",
       "      <td>1</td>\n",
       "      <td>0</td>\n",
       "    </tr>\n",
       "    <tr>\n",
       "      <th>2</th>\n",
       "      <td>0.079999</td>\n",
       "      <td>-1.041720</td>\n",
       "      <td>1</td>\n",
       "      <td>0</td>\n",
       "      <td>2</td>\n",
       "      <td>0</td>\n",
       "      <td>0.750918</td>\n",
       "      <td>0.744689</td>\n",
       "      <td>-0.330082</td>\n",
       "      <td>-2.254802</td>\n",
       "      <td>1.405256</td>\n",
       "      <td>0.794392</td>\n",
       "      <td>1.332974</td>\n",
       "      <td>0.881219</td>\n",
       "      <td>-1.020188</td>\n",
       "      <td>-1.650492</td>\n",
       "      <td>1.199852</td>\n",
       "      <td>-0.708342</td>\n",
       "      <td>0</td>\n",
       "      <td>1</td>\n",
       "    </tr>\n",
       "    <tr>\n",
       "      <th>3</th>\n",
       "      <td>1.955313</td>\n",
       "      <td>-1.816308</td>\n",
       "      <td>2</td>\n",
       "      <td>1</td>\n",
       "      <td>4</td>\n",
       "      <td>0</td>\n",
       "      <td>1.628460</td>\n",
       "      <td>-1.202586</td>\n",
       "      <td>0.750261</td>\n",
       "      <td>0.513510</td>\n",
       "      <td>-0.761360</td>\n",
       "      <td>-1.422588</td>\n",
       "      <td>-0.632929</td>\n",
       "      <td>1.644674</td>\n",
       "      <td>-1.191948</td>\n",
       "      <td>-2.146515</td>\n",
       "      <td>-0.479036</td>\n",
       "      <td>-1.014638</td>\n",
       "      <td>1</td>\n",
       "      <td>0</td>\n",
       "    </tr>\n",
       "    <tr>\n",
       "      <th>4</th>\n",
       "      <td>-0.670127</td>\n",
       "      <td>0.507456</td>\n",
       "      <td>2</td>\n",
       "      <td>2</td>\n",
       "      <td>4</td>\n",
       "      <td>0</td>\n",
       "      <td>-1.004167</td>\n",
       "      <td>1.393781</td>\n",
       "      <td>-1.410426</td>\n",
       "      <td>-0.409261</td>\n",
       "      <td>-0.059541</td>\n",
       "      <td>0.633045</td>\n",
       "      <td>-0.116462</td>\n",
       "      <td>0.291031</td>\n",
       "      <td>-1.065072</td>\n",
       "      <td>-1.875957</td>\n",
       "      <td>0.709964</td>\n",
       "      <td>-0.248899</td>\n",
       "      <td>1</td>\n",
       "      <td>0</td>\n",
       "    </tr>\n",
       "  </tbody>\n",
       "</table>\n",
       "</div>"
      ],
      "text/plain": [
       "   Customer_Age  Dependent_count  Education_Level  Marital_Status  \\\n",
       "0     -0.295064        -0.267132                2               1   \n",
       "1      1.330208        -0.267132                2               1   \n",
       "2      0.079999        -1.041720                1               0   \n",
       "3      1.955313        -1.816308                2               1   \n",
       "4     -0.670127         0.507456                2               2   \n",
       "\n",
       "   Income_Category  Card_Category  Months_on_book  Total_Relationship_Count  \\\n",
       "0                1              0       -0.001261                 -0.553495   \n",
       "1                4              0        1.503097                  0.744689   \n",
       "2                2              0        0.750918                  0.744689   \n",
       "3                4              0        1.628460                 -1.202586   \n",
       "4                4              0       -1.004167                  1.393781   \n",
       "\n",
       "   Months_Inactive_12_mon  Contacts_Count_12_mon  Credit_Limit  \\\n",
       "0               -1.410426              -0.409261     -0.476217   \n",
       "1               -0.330082              -0.409261     -0.650738   \n",
       "2               -0.330082              -2.254802      1.405256   \n",
       "3                0.750261               0.513510     -0.761360   \n",
       "4               -1.410426              -0.409261     -0.059541   \n",
       "\n",
       "   Total_Revolving_Bal  Avg_Open_To_Buy  Total_Amt_Chng_Q4_Q1  \\\n",
       "0             0.113286        -0.486135              3.426068   \n",
       "1            -0.585062        -0.597724              2.418958   \n",
       "2             0.794392         1.332974              0.881219   \n",
       "3            -1.422588        -0.632929              1.644674   \n",
       "4             0.633045        -0.116462              0.291031   \n",
       "\n",
       "   Total_Trans_Amt  Total_Trans_Ct  Total_Ct_Chng_Q4_Q1  \\\n",
       "0        -1.051995       -1.785771             0.776303   \n",
       "1        -0.881649       -1.560306            -0.422903   \n",
       "2        -1.020188       -1.650492             1.199852   \n",
       "3        -1.191948       -2.146515            -0.479036   \n",
       "4        -1.065072       -1.875957             0.709964   \n",
       "\n",
       "   Avg_Utilization_Ratio  Gender 0  Gender 1  \n",
       "0               0.093012         0         1  \n",
       "1              -0.020958         1         0  \n",
       "2              -0.708342         0         1  \n",
       "3              -1.014638         1         0  \n",
       "4              -0.248899         1         0  "
      ]
     },
     "execution_count": 35,
     "metadata": {},
     "output_type": "execute_result"
    }
   ],
   "source": [
    "df1Features.head()"
   ]
  },
  {
   "cell_type": "markdown",
   "metadata": {},
   "source": [
    "## B. Deep Learning Keras Modeling"
   ]
  },
  {
   "cell_type": "code",
   "execution_count": 36,
   "metadata": {},
   "outputs": [
    {
     "name": "stdout",
     "output_type": "stream",
     "text": [
      "Train set: (5247, 20) (5247,)\n",
      "Test set: (1312, 20) (1312,)\n"
     ]
    }
   ],
   "source": [
    "X_train, X_test, y_train, y_test = train_test_split(df1Features, df1Labels, test_size=0.2, random_state=4)\n",
    "print ('Train set:', X_train.shape,  y_train.shape)\n",
    "print ('Test set:', X_test.shape,  y_test.shape)"
   ]
  },
  {
   "cell_type": "code",
   "execution_count": 37,
   "metadata": {},
   "outputs": [
    {
     "data": {
      "text/plain": [
       "1    4400\n",
       "0     847\n",
       "Name: Attrition_Flag, dtype: int64"
      ]
     },
     "execution_count": 37,
     "metadata": {},
     "output_type": "execute_result"
    }
   ],
   "source": [
    "y_train.value_counts()"
   ]
  },
  {
   "cell_type": "markdown",
   "metadata": {},
   "source": [
    "### Deep Learning Keras Model Using Deep Fast Feed Forward Neural Network (NN)"
   ]
  },
  {
   "cell_type": "code",
   "execution_count": 38,
   "metadata": {},
   "outputs": [],
   "source": [
    "from tensorflow.keras.models import Sequential\n",
    "\n",
    "from tensorflow.keras.layers import Dense, Dropout\n",
    "\n",
    "from tensorflow.keras.utils import to_categorical as TOCAT\n",
    "\n",
    "#from tensorflow.keras.utils import probas_to_classes as PROB_TO_CLASS\n"
   ]
  },
  {
   "cell_type": "code",
   "execution_count": 39,
   "metadata": {},
   "outputs": [],
   "source": [
    "#y_train_CAT = TOCAT(y_train)\n",
    "#y_test_CAT = TOCAT(y_test)\n",
    "\n",
    "y_train_CAT = y_train\n",
    "y_test_CAT = y_test"
   ]
  },
  {
   "cell_type": "code",
   "execution_count": 40,
   "metadata": {},
   "outputs": [],
   "source": [
    "DLModel = Sequential()"
   ]
  },
  {
   "cell_type": "code",
   "execution_count": 41,
   "metadata": {},
   "outputs": [
    {
     "data": {
      "text/plain": [
       "20"
      ]
     },
     "execution_count": 41,
     "metadata": {},
     "output_type": "execute_result"
    }
   ],
   "source": [
    "df1Features.shape[1]"
   ]
  },
  {
   "cell_type": "code",
   "execution_count": 42,
   "metadata": {},
   "outputs": [],
   "source": [
    "DLModel.add(Dense(units = 64, activation = 'relu', input_dim = df1Features.shape[1]))\n",
    "DLModel.add(Dropout(0.2))\n",
    "DLModel.add(Dense(units =  64, activation = 'relu'))\n",
    "DLModel.add(Dropout(0.2))\n",
    "DLModel.add(Dense(units = 2, activation = 'sigmoid'))"
   ]
  },
  {
   "cell_type": "code",
   "execution_count": 49,
   "metadata": {},
   "outputs": [],
   "source": [
    "DLModel.compile(loss = 'sparse_categorical_crossentropy', optimizer = 'Adam', metrics = ['accuracy'])\n",
    "\n",
    "# DLModel.compile(loss = 'categorical_crossentropy', optimizer = 'Adam', metrics = ['CategoricalAccuracy'])\n",
    "\n",
    "# In the above y_train and y_test need to be categoried using ONE HOT ENCODING to allow use of Categorical Accuracy metric\n"
   ]
  },
  {
   "cell_type": "code",
   "execution_count": 50,
   "metadata": {},
   "outputs": [
    {
     "name": "stdout",
     "output_type": "stream",
     "text": [
      "Train on 5247 samples\n",
      "Epoch 1/10\n",
      "5247/5247 [==============================] - 90s 17ms/sample - loss: 0.3081 - accuracy: 0.8782\n",
      "Epoch 2/10\n",
      "5247/5247 [==============================] - 89s 17ms/sample - loss: 0.2738 - accuracy: 0.8906\n",
      "Epoch 3/10\n",
      "5247/5247 [==============================] - 89s 17ms/sample - loss: 0.2539 - accuracy: 0.9011\n",
      "Epoch 4/10\n",
      "5247/5247 [==============================] - 88s 17ms/sample - loss: 0.2307 - accuracy: 0.9053\n",
      "Epoch 5/10\n",
      "5247/5247 [==============================] - 91s 17ms/sample - loss: 0.2243 - accuracy: 0.9038\n",
      "Epoch 6/10\n",
      "5247/5247 [==============================] - 89s 17ms/sample - loss: 0.2153 - accuracy: 0.9135\n",
      "Epoch 7/10\n",
      "5247/5247 [==============================] - 91s 17ms/sample - loss: 0.2025 - accuracy: 0.9186\n",
      "Epoch 8/10\n",
      "5247/5247 [==============================] - 88s 17ms/sample - loss: 0.1962 - accuracy: 0.9215\n",
      "Epoch 9/10\n",
      "5247/5247 [==============================] - 88s 17ms/sample - loss: 0.1854 - accuracy: 0.9238\n",
      "Epoch 10/10\n",
      "5247/5247 [==============================] - 89s 17ms/sample - loss: 0.1837 - accuracy: 0.9251\n"
     ]
    },
    {
     "data": {
      "text/plain": [
       "<tensorflow.python.keras.callbacks.History at 0x7f23cc591e90>"
      ]
     },
     "execution_count": 50,
     "metadata": {},
     "output_type": "execute_result"
    }
   ],
   "source": [
    "DLModel.fit(X_train, y_train_CAT, epochs = 10, batch_size = 33)"
   ]
  },
  {
   "cell_type": "code",
   "execution_count": 51,
   "metadata": {},
   "outputs": [
    {
     "name": "stdout",
     "output_type": "stream",
     "text": [
      "Here is the SUMMARY of the DLModel\n",
      "\n",
      "Model: \"sequential\"\n",
      "_________________________________________________________________\n",
      "Layer (type)                 Output Shape              Param #   \n",
      "=================================================================\n",
      "dense (Dense)                (None, 64)                1344      \n",
      "_________________________________________________________________\n",
      "dropout (Dropout)            (None, 64)                0         \n",
      "_________________________________________________________________\n",
      "dense_1 (Dense)              (None, 64)                4160      \n",
      "_________________________________________________________________\n",
      "dropout_1 (Dropout)          (None, 64)                0         \n",
      "_________________________________________________________________\n",
      "dense_2 (Dense)              (None, 2)                 130       \n",
      "=================================================================\n",
      "Total params: 5,634\n",
      "Trainable params: 5,634\n",
      "Non-trainable params: 0\n",
      "_________________________________________________________________\n",
      "None\n"
     ]
    }
   ],
   "source": [
    "## Here is the SUMMARY of the DL Keras Model\n",
    "\n",
    "print(\"Here is the SUMMARY of the DLModel\\n\")\n",
    "\n",
    "print(DLModel.summary())"
   ]
  },
  {
   "cell_type": "code",
   "execution_count": 52,
   "metadata": {},
   "outputs": [
    {
     "name": "stdout",
     "output_type": "stream",
     "text": [
      "1312/1312 [==============================] - 8s 6ms/sample - loss: 0.1802 - accuracy: 0.9253\n"
     ]
    }
   ],
   "source": [
    "loss_and_metrics = DLModel.evaluate(X_test, y_test_CAT, batch_size = 32)"
   ]
  },
  {
   "cell_type": "code",
   "execution_count": 53,
   "metadata": {},
   "outputs": [],
   "source": [
    "Categories = DLModel.predict(X_test, batch_size = 32)"
   ]
  },
  {
   "cell_type": "code",
   "execution_count": 54,
   "metadata": {},
   "outputs": [
    {
     "data": {
      "text/plain": [
       "(1312, 2)"
      ]
     },
     "execution_count": 54,
     "metadata": {},
     "output_type": "execute_result"
    }
   ],
   "source": [
    "Categories.shape"
   ]
  },
  {
   "cell_type": "code",
   "execution_count": 55,
   "metadata": {},
   "outputs": [],
   "source": [
    "xx = Categories.argmax(axis = 1)"
   ]
  },
  {
   "cell_type": "code",
   "execution_count": 56,
   "metadata": {},
   "outputs": [
    {
     "data": {
      "text/plain": [
       "(1312,)"
      ]
     },
     "execution_count": 56,
     "metadata": {},
     "output_type": "execute_result"
    }
   ],
   "source": [
    "xx.shape"
   ]
  },
  {
   "cell_type": "markdown",
   "metadata": {},
   "source": [
    "### Checking Accuracy Etc."
   ]
  },
  {
   "cell_type": "code",
   "execution_count": 57,
   "metadata": {},
   "outputs": [],
   "source": [
    "#from sklearn import svm\n",
    "from sklearn.metrics import f1_score as F1,jaccard_score as JACCARD,accuracy_score as ACCURACY"
   ]
  },
  {
   "cell_type": "markdown",
   "metadata": {},
   "source": [
    "## Here is Some Code to See How Model Fits TRAINING Data ..."
   ]
  },
  {
   "cell_type": "code",
   "execution_count": 60,
   "metadata": {},
   "outputs": [],
   "source": [
    "Categories2 = DLModel.predict(X_train, batch_size = 32)"
   ]
  },
  {
   "cell_type": "code",
   "execution_count": 61,
   "metadata": {},
   "outputs": [],
   "source": [
    "yy = Categories2.argmax(axis = 1)"
   ]
  },
  {
   "cell_type": "code",
   "execution_count": 62,
   "metadata": {},
   "outputs": [
    {
     "data": {
      "text/plain": [
       "(5247,)"
      ]
     },
     "execution_count": 62,
     "metadata": {},
     "output_type": "execute_result"
    }
   ],
   "source": [
    "yy.shape"
   ]
  },
  {
   "cell_type": "code",
   "execution_count": 63,
   "metadata": {},
   "outputs": [
    {
     "name": "stdout",
     "output_type": "stream",
     "text": [
      "              precision    recall  f1-score   support\n",
      "\n",
      "           0       0.82      0.80      0.81       847\n",
      "           1       0.96      0.97      0.96      4400\n",
      "\n",
      "    accuracy                           0.94      5247\n",
      "   macro avg       0.89      0.88      0.88      5247\n",
      "weighted avg       0.94      0.94      0.94      5247\n",
      "\n",
      "Confusion matrix, without normalization\n",
      "[[ 674  173]\n",
      " [ 152 4248]]\n"
     ]
    },
    {
     "data": {
      "image/png": "[encoded data removed]",
      "text/plain": [
       "<Figure size 432x288 with 2 Axes>"
      ]
     },
     "metadata": {
      "needs_background": "light"
     },
     "output_type": "display_data"
    }
   ],
   "source": [
    "# Compute confusion matrix\n",
    "cnf_matrix = confusion_matrix(y_train, yy, labels=[0,1])\n",
    "np.set_printoptions(precision=2)\n",
    "\n",
    "print (classification_report(y_train, yy))\n",
    "\n",
    "# Plot non-normalized confusion matrix\n",
    "plt.figure()\n",
    "plot_confusion_matrix(cnf_matrix, classes=['RETAINED','LOST'],normalize= False,  title='Confusion Matrix')"
   ]
  },
  {
   "cell_type": "code",
   "execution_count": 64,
   "metadata": {},
   "outputs": [
    {
     "name": "stdout",
     "output_type": "stream",
     "text": [
      "F-1 Score = 0.937745 or 93.77% Accurate\n",
      "Jaccard Score = 0.928931 or 92.89% Accurate\n",
      "The Accuracy Score is 0.938060 or 93.81% Accurate\n"
     ]
    }
   ],
   "source": [
    "## F-1 Score, Jaccard Score and Accuracy Metric\n",
    "\n",
    "print(\"F-1 Score = %.6f or %.2f%% Accurate\" % (F1(y_train, yy, average='weighted'),(100*F1(y_train,yy,average='weighted')))) \n",
    "\n",
    "print(\"Jaccard Score = %.6f or %.2f%% Accurate\" % (JACCARD(y_train, yy),(100*JACCARD(y_train, yy))))\n",
    "\n",
    "print(\"The Accuracy Score is %.6f or %.2f%% Accurate\" % (ACCURACY(y_train, yy),(100*ACCURACY(y_train, yy))))"
   ]
  },
  {
   "cell_type": "markdown",
   "metadata": {},
   "source": [
    "## End of Code to See How Model Fits Training Data ... The metric scores are still pretty high ... The metric scores for TESTING data are comparable showing the Machine Learning (ML) FIT is GOOD!"
   ]
  },
  {
   "cell_type": "code",
   "execution_count": 58,
   "metadata": {},
   "outputs": [
    {
     "name": "stdout",
     "output_type": "stream",
     "text": [
      "              precision    recall  f1-score   support\n",
      "\n",
      "           0       0.76      0.78      0.77       212\n",
      "           1       0.96      0.95      0.96      1100\n",
      "\n",
      "    accuracy                           0.93      1312\n",
      "   macro avg       0.86      0.87      0.86      1312\n",
      "weighted avg       0.93      0.93      0.93      1312\n",
      "\n",
      "Confusion matrix, without normalization\n",
      "[[ 166   46]\n",
      " [  52 1048]]\n"
     ]
    },
    {
     "data": {
      "image/png": "[encoded data removed]",
      "text/plain": [
       "<Figure size 432x288 with 2 Axes>"
      ]
     },
     "metadata": {
      "needs_background": "light"
     },
     "output_type": "display_data"
    }
   ],
   "source": [
    "# Compute confusion matrix\n",
    "cnf_matrix = confusion_matrix(y_test, xx, labels=[0,1])\n",
    "np.set_printoptions(precision=2)\n",
    "\n",
    "print (classification_report(y_test, xx))\n",
    "\n",
    "# Plot non-normalized confusion matrix\n",
    "plt.figure()\n",
    "plot_confusion_matrix(cnf_matrix, classes=['RETAINED','LOST'],normalize= False,  title='Confusion Matrix')"
   ]
  },
  {
   "cell_type": "code",
   "execution_count": 59,
   "metadata": {},
   "outputs": [
    {
     "name": "stdout",
     "output_type": "stream",
     "text": [
      "F-1 Score = 0.925724 or 92.57% Accurate\n",
      "Jaccard Score = 0.914485 or 91.45% Accurate\n",
      "The Accuracy Score is 0.925305 or 92.53% Accurate\n"
     ]
    }
   ],
   "source": [
    "# Computer F1 Score and Jaccard Similarity Score and Accuracy Score\n",
    "\n",
    "\n",
    "print(\"F-1 Score = %.6f or %.2f%% Accurate\" % (F1(y_test, xx, average='weighted'),(100*F1(y_test,xx,average='weighted')))) \n",
    "\n",
    "print(\"Jaccard Score = %.6f or %.2f%% Accurate\" % (JACCARD(y_test, xx),(100*JACCARD(y_test, xx))))\n",
    "\n",
    "print(\"The Accuracy Score is %.6f or %.2f%% Accurate\" % (ACCURACY(y_test, xx),(100*ACCURACY(y_test, xx))))\n",
    "\n"
   ]
  },
  {
   "cell_type": "markdown",
   "metadata": {},
   "source": [
    "## PRETTY GOOD DEEP LEARNING FIT ... GENIUS!! ... GREAT MODELING!!"
   ]
  }
 ],
 "metadata": {
  "kernelspec": {
   "display_name": "Python 3",
   "language": "python",
   "name": "python3"
  },
  "language_info": {
   "codemirror_mode": {
    "name": "ipython",
    "version": 3
   },
   "file_extension": ".py",
   "mimetype": "text/x-python",
   "name": "python",
   "nbconvert_exporter": "python",
   "pygments_lexer": "ipython3",
   "version": "3.7.4"
  }
 },
 "nbformat": 4,
 "nbformat_minor": 1
}
